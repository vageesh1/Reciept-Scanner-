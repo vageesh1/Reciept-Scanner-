{
  "nbformat": 4,
  "nbformat_minor": 0,
  "metadata": {
    "colab": {
      "provenance": [],
      "toc_visible": true,
      "gpuType": "T4"
    },
    "kernelspec": {
      "name": "python3",
      "display_name": "Python 3"
    },
    "language_info": {
      "name": "python"
    },
    "accelerator": "GPU",
    "widgets": {
      "application/vnd.jupyter.widget-state+json": {
        "ad2083e2898f43b4a041c0215c1fe294": {
          "model_module": "@jupyter-widgets/controls",
          "model_name": "HBoxModel",
          "model_module_version": "1.5.0",
          "state": {
            "_dom_classes": [],
            "_model_module": "@jupyter-widgets/controls",
            "_model_module_version": "1.5.0",
            "_model_name": "HBoxModel",
            "_view_count": null,
            "_view_module": "@jupyter-widgets/controls",
            "_view_module_version": "1.5.0",
            "_view_name": "HBoxView",
            "box_style": "",
            "children": [
              "IPY_MODEL_e59e9962baac4963965dbbdffb192976",
              "IPY_MODEL_d423e784663d4b39bac8ce7c28e70fda",
              "IPY_MODEL_8d2a3c8c85f84fedab667f59a64f662a"
            ],
            "layout": "IPY_MODEL_e43f7551fbe64d4daeb1b680180ae136"
          }
        },
        "e59e9962baac4963965dbbdffb192976": {
          "model_module": "@jupyter-widgets/controls",
          "model_name": "HTMLModel",
          "model_module_version": "1.5.0",
          "state": {
            "_dom_classes": [],
            "_model_module": "@jupyter-widgets/controls",
            "_model_module_version": "1.5.0",
            "_model_name": "HTMLModel",
            "_view_count": null,
            "_view_module": "@jupyter-widgets/controls",
            "_view_module_version": "1.5.0",
            "_view_name": "HTMLView",
            "description": "",
            "description_tooltip": null,
            "layout": "IPY_MODEL_c5ff639e4ee24ce08abba3d54e3032ba",
            "placeholder": "​",
            "style": "IPY_MODEL_e4e990a947d6469d88b4802f5f84a210",
            "value": "Map: 100%"
          }
        },
        "d423e784663d4b39bac8ce7c28e70fda": {
          "model_module": "@jupyter-widgets/controls",
          "model_name": "FloatProgressModel",
          "model_module_version": "1.5.0",
          "state": {
            "_dom_classes": [],
            "_model_module": "@jupyter-widgets/controls",
            "_model_module_version": "1.5.0",
            "_model_name": "FloatProgressModel",
            "_view_count": null,
            "_view_module": "@jupyter-widgets/controls",
            "_view_module_version": "1.5.0",
            "_view_name": "ProgressView",
            "bar_style": "success",
            "description": "",
            "description_tooltip": null,
            "layout": "IPY_MODEL_10a8ad19fa7143f3bb9c3e4f8e8b0529",
            "max": 50,
            "min": 0,
            "orientation": "horizontal",
            "style": "IPY_MODEL_2abb57f407794ca49c841a4fcfa9bc60",
            "value": 50
          }
        },
        "8d2a3c8c85f84fedab667f59a64f662a": {
          "model_module": "@jupyter-widgets/controls",
          "model_name": "HTMLModel",
          "model_module_version": "1.5.0",
          "state": {
            "_dom_classes": [],
            "_model_module": "@jupyter-widgets/controls",
            "_model_module_version": "1.5.0",
            "_model_name": "HTMLModel",
            "_view_count": null,
            "_view_module": "@jupyter-widgets/controls",
            "_view_module_version": "1.5.0",
            "_view_name": "HTMLView",
            "description": "",
            "description_tooltip": null,
            "layout": "IPY_MODEL_483430e60744458ca6d1b5b39826fe1f",
            "placeholder": "​",
            "style": "IPY_MODEL_02e9998eeff54e229610ac013cb30f77",
            "value": " 50/50 [05:28&lt;00:00,  8.21s/ examples]"
          }
        },
        "e43f7551fbe64d4daeb1b680180ae136": {
          "model_module": "@jupyter-widgets/base",
          "model_name": "LayoutModel",
          "model_module_version": "1.2.0",
          "state": {
            "_model_module": "@jupyter-widgets/base",
            "_model_module_version": "1.2.0",
            "_model_name": "LayoutModel",
            "_view_count": null,
            "_view_module": "@jupyter-widgets/base",
            "_view_module_version": "1.2.0",
            "_view_name": "LayoutView",
            "align_content": null,
            "align_items": null,
            "align_self": null,
            "border": null,
            "bottom": null,
            "display": null,
            "flex": null,
            "flex_flow": null,
            "grid_area": null,
            "grid_auto_columns": null,
            "grid_auto_flow": null,
            "grid_auto_rows": null,
            "grid_column": null,
            "grid_gap": null,
            "grid_row": null,
            "grid_template_areas": null,
            "grid_template_columns": null,
            "grid_template_rows": null,
            "height": null,
            "justify_content": null,
            "justify_items": null,
            "left": null,
            "margin": null,
            "max_height": null,
            "max_width": null,
            "min_height": null,
            "min_width": null,
            "object_fit": null,
            "object_position": null,
            "order": null,
            "overflow": null,
            "overflow_x": null,
            "overflow_y": null,
            "padding": null,
            "right": null,
            "top": null,
            "visibility": null,
            "width": null
          }
        },
        "c5ff639e4ee24ce08abba3d54e3032ba": {
          "model_module": "@jupyter-widgets/base",
          "model_name": "LayoutModel",
          "model_module_version": "1.2.0",
          "state": {
            "_model_module": "@jupyter-widgets/base",
            "_model_module_version": "1.2.0",
            "_model_name": "LayoutModel",
            "_view_count": null,
            "_view_module": "@jupyter-widgets/base",
            "_view_module_version": "1.2.0",
            "_view_name": "LayoutView",
            "align_content": null,
            "align_items": null,
            "align_self": null,
            "border": null,
            "bottom": null,
            "display": null,
            "flex": null,
            "flex_flow": null,
            "grid_area": null,
            "grid_auto_columns": null,
            "grid_auto_flow": null,
            "grid_auto_rows": null,
            "grid_column": null,
            "grid_gap": null,
            "grid_row": null,
            "grid_template_areas": null,
            "grid_template_columns": null,
            "grid_template_rows": null,
            "height": null,
            "justify_content": null,
            "justify_items": null,
            "left": null,
            "margin": null,
            "max_height": null,
            "max_width": null,
            "min_height": null,
            "min_width": null,
            "object_fit": null,
            "object_position": null,
            "order": null,
            "overflow": null,
            "overflow_x": null,
            "overflow_y": null,
            "padding": null,
            "right": null,
            "top": null,
            "visibility": null,
            "width": null
          }
        },
        "e4e990a947d6469d88b4802f5f84a210": {
          "model_module": "@jupyter-widgets/controls",
          "model_name": "DescriptionStyleModel",
          "model_module_version": "1.5.0",
          "state": {
            "_model_module": "@jupyter-widgets/controls",
            "_model_module_version": "1.5.0",
            "_model_name": "DescriptionStyleModel",
            "_view_count": null,
            "_view_module": "@jupyter-widgets/base",
            "_view_module_version": "1.2.0",
            "_view_name": "StyleView",
            "description_width": ""
          }
        },
        "10a8ad19fa7143f3bb9c3e4f8e8b0529": {
          "model_module": "@jupyter-widgets/base",
          "model_name": "LayoutModel",
          "model_module_version": "1.2.0",
          "state": {
            "_model_module": "@jupyter-widgets/base",
            "_model_module_version": "1.2.0",
            "_model_name": "LayoutModel",
            "_view_count": null,
            "_view_module": "@jupyter-widgets/base",
            "_view_module_version": "1.2.0",
            "_view_name": "LayoutView",
            "align_content": null,
            "align_items": null,
            "align_self": null,
            "border": null,
            "bottom": null,
            "display": null,
            "flex": null,
            "flex_flow": null,
            "grid_area": null,
            "grid_auto_columns": null,
            "grid_auto_flow": null,
            "grid_auto_rows": null,
            "grid_column": null,
            "grid_gap": null,
            "grid_row": null,
            "grid_template_areas": null,
            "grid_template_columns": null,
            "grid_template_rows": null,
            "height": null,
            "justify_content": null,
            "justify_items": null,
            "left": null,
            "margin": null,
            "max_height": null,
            "max_width": null,
            "min_height": null,
            "min_width": null,
            "object_fit": null,
            "object_position": null,
            "order": null,
            "overflow": null,
            "overflow_x": null,
            "overflow_y": null,
            "padding": null,
            "right": null,
            "top": null,
            "visibility": null,
            "width": null
          }
        },
        "2abb57f407794ca49c841a4fcfa9bc60": {
          "model_module": "@jupyter-widgets/controls",
          "model_name": "ProgressStyleModel",
          "model_module_version": "1.5.0",
          "state": {
            "_model_module": "@jupyter-widgets/controls",
            "_model_module_version": "1.5.0",
            "_model_name": "ProgressStyleModel",
            "_view_count": null,
            "_view_module": "@jupyter-widgets/base",
            "_view_module_version": "1.2.0",
            "_view_name": "StyleView",
            "bar_color": null,
            "description_width": ""
          }
        },
        "483430e60744458ca6d1b5b39826fe1f": {
          "model_module": "@jupyter-widgets/base",
          "model_name": "LayoutModel",
          "model_module_version": "1.2.0",
          "state": {
            "_model_module": "@jupyter-widgets/base",
            "_model_module_version": "1.2.0",
            "_model_name": "LayoutModel",
            "_view_count": null,
            "_view_module": "@jupyter-widgets/base",
            "_view_module_version": "1.2.0",
            "_view_name": "LayoutView",
            "align_content": null,
            "align_items": null,
            "align_self": null,
            "border": null,
            "bottom": null,
            "display": null,
            "flex": null,
            "flex_flow": null,
            "grid_area": null,
            "grid_auto_columns": null,
            "grid_auto_flow": null,
            "grid_auto_rows": null,
            "grid_column": null,
            "grid_gap": null,
            "grid_row": null,
            "grid_template_areas": null,
            "grid_template_columns": null,
            "grid_template_rows": null,
            "height": null,
            "justify_content": null,
            "justify_items": null,
            "left": null,
            "margin": null,
            "max_height": null,
            "max_width": null,
            "min_height": null,
            "min_width": null,
            "object_fit": null,
            "object_position": null,
            "order": null,
            "overflow": null,
            "overflow_x": null,
            "overflow_y": null,
            "padding": null,
            "right": null,
            "top": null,
            "visibility": null,
            "width": null
          }
        },
        "02e9998eeff54e229610ac013cb30f77": {
          "model_module": "@jupyter-widgets/controls",
          "model_name": "DescriptionStyleModel",
          "model_module_version": "1.5.0",
          "state": {
            "_model_module": "@jupyter-widgets/controls",
            "_model_module_version": "1.5.0",
            "_model_name": "DescriptionStyleModel",
            "_view_count": null,
            "_view_module": "@jupyter-widgets/base",
            "_view_module_version": "1.2.0",
            "_view_name": "StyleView",
            "description_width": ""
          }
        },
        "36fa4c89f2034955b65663a29cbcf85b": {
          "model_module": "@jupyter-widgets/controls",
          "model_name": "HBoxModel",
          "model_module_version": "1.5.0",
          "state": {
            "_dom_classes": [],
            "_model_module": "@jupyter-widgets/controls",
            "_model_module_version": "1.5.0",
            "_model_name": "HBoxModel",
            "_view_count": null,
            "_view_module": "@jupyter-widgets/controls",
            "_view_module_version": "1.5.0",
            "_view_name": "HBoxView",
            "box_style": "",
            "children": [
              "IPY_MODEL_a42feeba6f1b4d4581915a575b590f10",
              "IPY_MODEL_64166750beb142caa1e0015d26cf28e6",
              "IPY_MODEL_10914227e7dc4bbeaf6c81b794fc6c72"
            ],
            "layout": "IPY_MODEL_b69c7d7792a3460488e8d6f1f032cfbc"
          }
        },
        "a42feeba6f1b4d4581915a575b590f10": {
          "model_module": "@jupyter-widgets/controls",
          "model_name": "HTMLModel",
          "model_module_version": "1.5.0",
          "state": {
            "_dom_classes": [],
            "_model_module": "@jupyter-widgets/controls",
            "_model_module_version": "1.5.0",
            "_model_name": "HTMLModel",
            "_view_count": null,
            "_view_module": "@jupyter-widgets/controls",
            "_view_module_version": "1.5.0",
            "_view_name": "HTMLView",
            "description": "",
            "description_tooltip": null,
            "layout": "IPY_MODEL_9cb10a32ef4f493fabb32f633d0a3b35",
            "placeholder": "​",
            "style": "IPY_MODEL_2cd5d02493ff4669930e3e217c61b916",
            "value": "Map: 100%"
          }
        },
        "64166750beb142caa1e0015d26cf28e6": {
          "model_module": "@jupyter-widgets/controls",
          "model_name": "FloatProgressModel",
          "model_module_version": "1.5.0",
          "state": {
            "_dom_classes": [],
            "_model_module": "@jupyter-widgets/controls",
            "_model_module_version": "1.5.0",
            "_model_name": "FloatProgressModel",
            "_view_count": null,
            "_view_module": "@jupyter-widgets/controls",
            "_view_module_version": "1.5.0",
            "_view_name": "ProgressView",
            "bar_style": "success",
            "description": "",
            "description_tooltip": null,
            "layout": "IPY_MODEL_3eac43cd7ee3434491a8fdc30a20afc0",
            "max": 50,
            "min": 0,
            "orientation": "horizontal",
            "style": "IPY_MODEL_58729c80473c4048b9796fc69b84e74a",
            "value": 50
          }
        },
        "10914227e7dc4bbeaf6c81b794fc6c72": {
          "model_module": "@jupyter-widgets/controls",
          "model_name": "HTMLModel",
          "model_module_version": "1.5.0",
          "state": {
            "_dom_classes": [],
            "_model_module": "@jupyter-widgets/controls",
            "_model_module_version": "1.5.0",
            "_model_name": "HTMLModel",
            "_view_count": null,
            "_view_module": "@jupyter-widgets/controls",
            "_view_module_version": "1.5.0",
            "_view_name": "HTMLView",
            "description": "",
            "description_tooltip": null,
            "layout": "IPY_MODEL_896b0515a6404914b5e1efb8a4a2cf5f",
            "placeholder": "​",
            "style": "IPY_MODEL_f0d71d00c37e41c5a0aab05a9867f9d7",
            "value": " 50/50 [00:03&lt;00:00, 10.50 examples/s]"
          }
        },
        "b69c7d7792a3460488e8d6f1f032cfbc": {
          "model_module": "@jupyter-widgets/base",
          "model_name": "LayoutModel",
          "model_module_version": "1.2.0",
          "state": {
            "_model_module": "@jupyter-widgets/base",
            "_model_module_version": "1.2.0",
            "_model_name": "LayoutModel",
            "_view_count": null,
            "_view_module": "@jupyter-widgets/base",
            "_view_module_version": "1.2.0",
            "_view_name": "LayoutView",
            "align_content": null,
            "align_items": null,
            "align_self": null,
            "border": null,
            "bottom": null,
            "display": null,
            "flex": null,
            "flex_flow": null,
            "grid_area": null,
            "grid_auto_columns": null,
            "grid_auto_flow": null,
            "grid_auto_rows": null,
            "grid_column": null,
            "grid_gap": null,
            "grid_row": null,
            "grid_template_areas": null,
            "grid_template_columns": null,
            "grid_template_rows": null,
            "height": null,
            "justify_content": null,
            "justify_items": null,
            "left": null,
            "margin": null,
            "max_height": null,
            "max_width": null,
            "min_height": null,
            "min_width": null,
            "object_fit": null,
            "object_position": null,
            "order": null,
            "overflow": null,
            "overflow_x": null,
            "overflow_y": null,
            "padding": null,
            "right": null,
            "top": null,
            "visibility": null,
            "width": null
          }
        },
        "9cb10a32ef4f493fabb32f633d0a3b35": {
          "model_module": "@jupyter-widgets/base",
          "model_name": "LayoutModel",
          "model_module_version": "1.2.0",
          "state": {
            "_model_module": "@jupyter-widgets/base",
            "_model_module_version": "1.2.0",
            "_model_name": "LayoutModel",
            "_view_count": null,
            "_view_module": "@jupyter-widgets/base",
            "_view_module_version": "1.2.0",
            "_view_name": "LayoutView",
            "align_content": null,
            "align_items": null,
            "align_self": null,
            "border": null,
            "bottom": null,
            "display": null,
            "flex": null,
            "flex_flow": null,
            "grid_area": null,
            "grid_auto_columns": null,
            "grid_auto_flow": null,
            "grid_auto_rows": null,
            "grid_column": null,
            "grid_gap": null,
            "grid_row": null,
            "grid_template_areas": null,
            "grid_template_columns": null,
            "grid_template_rows": null,
            "height": null,
            "justify_content": null,
            "justify_items": null,
            "left": null,
            "margin": null,
            "max_height": null,
            "max_width": null,
            "min_height": null,
            "min_width": null,
            "object_fit": null,
            "object_position": null,
            "order": null,
            "overflow": null,
            "overflow_x": null,
            "overflow_y": null,
            "padding": null,
            "right": null,
            "top": null,
            "visibility": null,
            "width": null
          }
        },
        "2cd5d02493ff4669930e3e217c61b916": {
          "model_module": "@jupyter-widgets/controls",
          "model_name": "DescriptionStyleModel",
          "model_module_version": "1.5.0",
          "state": {
            "_model_module": "@jupyter-widgets/controls",
            "_model_module_version": "1.5.0",
            "_model_name": "DescriptionStyleModel",
            "_view_count": null,
            "_view_module": "@jupyter-widgets/base",
            "_view_module_version": "1.2.0",
            "_view_name": "StyleView",
            "description_width": ""
          }
        },
        "3eac43cd7ee3434491a8fdc30a20afc0": {
          "model_module": "@jupyter-widgets/base",
          "model_name": "LayoutModel",
          "model_module_version": "1.2.0",
          "state": {
            "_model_module": "@jupyter-widgets/base",
            "_model_module_version": "1.2.0",
            "_model_name": "LayoutModel",
            "_view_count": null,
            "_view_module": "@jupyter-widgets/base",
            "_view_module_version": "1.2.0",
            "_view_name": "LayoutView",
            "align_content": null,
            "align_items": null,
            "align_self": null,
            "border": null,
            "bottom": null,
            "display": null,
            "flex": null,
            "flex_flow": null,
            "grid_area": null,
            "grid_auto_columns": null,
            "grid_auto_flow": null,
            "grid_auto_rows": null,
            "grid_column": null,
            "grid_gap": null,
            "grid_row": null,
            "grid_template_areas": null,
            "grid_template_columns": null,
            "grid_template_rows": null,
            "height": null,
            "justify_content": null,
            "justify_items": null,
            "left": null,
            "margin": null,
            "max_height": null,
            "max_width": null,
            "min_height": null,
            "min_width": null,
            "object_fit": null,
            "object_position": null,
            "order": null,
            "overflow": null,
            "overflow_x": null,
            "overflow_y": null,
            "padding": null,
            "right": null,
            "top": null,
            "visibility": null,
            "width": null
          }
        },
        "58729c80473c4048b9796fc69b84e74a": {
          "model_module": "@jupyter-widgets/controls",
          "model_name": "ProgressStyleModel",
          "model_module_version": "1.5.0",
          "state": {
            "_model_module": "@jupyter-widgets/controls",
            "_model_module_version": "1.5.0",
            "_model_name": "ProgressStyleModel",
            "_view_count": null,
            "_view_module": "@jupyter-widgets/base",
            "_view_module_version": "1.2.0",
            "_view_name": "StyleView",
            "bar_color": null,
            "description_width": ""
          }
        },
        "896b0515a6404914b5e1efb8a4a2cf5f": {
          "model_module": "@jupyter-widgets/base",
          "model_name": "LayoutModel",
          "model_module_version": "1.2.0",
          "state": {
            "_model_module": "@jupyter-widgets/base",
            "_model_module_version": "1.2.0",
            "_model_name": "LayoutModel",
            "_view_count": null,
            "_view_module": "@jupyter-widgets/base",
            "_view_module_version": "1.2.0",
            "_view_name": "LayoutView",
            "align_content": null,
            "align_items": null,
            "align_self": null,
            "border": null,
            "bottom": null,
            "display": null,
            "flex": null,
            "flex_flow": null,
            "grid_area": null,
            "grid_auto_columns": null,
            "grid_auto_flow": null,
            "grid_auto_rows": null,
            "grid_column": null,
            "grid_gap": null,
            "grid_row": null,
            "grid_template_areas": null,
            "grid_template_columns": null,
            "grid_template_rows": null,
            "height": null,
            "justify_content": null,
            "justify_items": null,
            "left": null,
            "margin": null,
            "max_height": null,
            "max_width": null,
            "min_height": null,
            "min_width": null,
            "object_fit": null,
            "object_position": null,
            "order": null,
            "overflow": null,
            "overflow_x": null,
            "overflow_y": null,
            "padding": null,
            "right": null,
            "top": null,
            "visibility": null,
            "width": null
          }
        },
        "f0d71d00c37e41c5a0aab05a9867f9d7": {
          "model_module": "@jupyter-widgets/controls",
          "model_name": "DescriptionStyleModel",
          "model_module_version": "1.5.0",
          "state": {
            "_model_module": "@jupyter-widgets/controls",
            "_model_module_version": "1.5.0",
            "_model_name": "DescriptionStyleModel",
            "_view_count": null,
            "_view_module": "@jupyter-widgets/base",
            "_view_module_version": "1.2.0",
            "_view_name": "StyleView",
            "description_width": ""
          }
        },
        "7091c6ea1f814899877c551fd2d4197a": {
          "model_module": "@jupyter-widgets/controls",
          "model_name": "HBoxModel",
          "model_module_version": "1.5.0",
          "state": {
            "_dom_classes": [],
            "_model_module": "@jupyter-widgets/controls",
            "_model_module_version": "1.5.0",
            "_model_name": "HBoxModel",
            "_view_count": null,
            "_view_module": "@jupyter-widgets/controls",
            "_view_module_version": "1.5.0",
            "_view_name": "HBoxView",
            "box_style": "",
            "children": [
              "IPY_MODEL_831f4b6004434981b03ac48fdf7b3188",
              "IPY_MODEL_374cb1b2c93f4ef1938528e050ab608b",
              "IPY_MODEL_6b514c61ff854145a7c33b2b70607338"
            ],
            "layout": "IPY_MODEL_6036f14e10f44f5e806748c4469d8ad2"
          }
        },
        "831f4b6004434981b03ac48fdf7b3188": {
          "model_module": "@jupyter-widgets/controls",
          "model_name": "HTMLModel",
          "model_module_version": "1.5.0",
          "state": {
            "_dom_classes": [],
            "_model_module": "@jupyter-widgets/controls",
            "_model_module_version": "1.5.0",
            "_model_name": "HTMLModel",
            "_view_count": null,
            "_view_module": "@jupyter-widgets/controls",
            "_view_module_version": "1.5.0",
            "_view_name": "HTMLView",
            "description": "",
            "description_tooltip": null,
            "layout": "IPY_MODEL_df67680ce13b44d1812925b2c559e3bd",
            "placeholder": "​",
            "style": "IPY_MODEL_092e8bca4b4e4d8ca80a371dfc33c495",
            "value": "Downloading pytorch_model.bin: 100%"
          }
        },
        "374cb1b2c93f4ef1938528e050ab608b": {
          "model_module": "@jupyter-widgets/controls",
          "model_name": "FloatProgressModel",
          "model_module_version": "1.5.0",
          "state": {
            "_dom_classes": [],
            "_model_module": "@jupyter-widgets/controls",
            "_model_module_version": "1.5.0",
            "_model_name": "FloatProgressModel",
            "_view_count": null,
            "_view_module": "@jupyter-widgets/controls",
            "_view_module_version": "1.5.0",
            "_view_name": "ProgressView",
            "bar_style": "success",
            "description": "",
            "description_tooltip": null,
            "layout": "IPY_MODEL_08ca29b0f93c4a6aa7b9590774554207",
            "max": 802243295,
            "min": 0,
            "orientation": "horizontal",
            "style": "IPY_MODEL_4ae19fcced2e4f2082e98f0e7deed45e",
            "value": 802243295
          }
        },
        "6b514c61ff854145a7c33b2b70607338": {
          "model_module": "@jupyter-widgets/controls",
          "model_name": "HTMLModel",
          "model_module_version": "1.5.0",
          "state": {
            "_dom_classes": [],
            "_model_module": "@jupyter-widgets/controls",
            "_model_module_version": "1.5.0",
            "_model_name": "HTMLModel",
            "_view_count": null,
            "_view_module": "@jupyter-widgets/controls",
            "_view_module_version": "1.5.0",
            "_view_name": "HTMLView",
            "description": "",
            "description_tooltip": null,
            "layout": "IPY_MODEL_6042e3c898e44874afcd8ced238451bb",
            "placeholder": "​",
            "style": "IPY_MODEL_440f43553f51424190175fa6a3dc87cd",
            "value": " 802M/802M [00:17&lt;00:00, 46.2MB/s]"
          }
        },
        "6036f14e10f44f5e806748c4469d8ad2": {
          "model_module": "@jupyter-widgets/base",
          "model_name": "LayoutModel",
          "model_module_version": "1.2.0",
          "state": {
            "_model_module": "@jupyter-widgets/base",
            "_model_module_version": "1.2.0",
            "_model_name": "LayoutModel",
            "_view_count": null,
            "_view_module": "@jupyter-widgets/base",
            "_view_module_version": "1.2.0",
            "_view_name": "LayoutView",
            "align_content": null,
            "align_items": null,
            "align_self": null,
            "border": null,
            "bottom": null,
            "display": null,
            "flex": null,
            "flex_flow": null,
            "grid_area": null,
            "grid_auto_columns": null,
            "grid_auto_flow": null,
            "grid_auto_rows": null,
            "grid_column": null,
            "grid_gap": null,
            "grid_row": null,
            "grid_template_areas": null,
            "grid_template_columns": null,
            "grid_template_rows": null,
            "height": null,
            "justify_content": null,
            "justify_items": null,
            "left": null,
            "margin": null,
            "max_height": null,
            "max_width": null,
            "min_height": null,
            "min_width": null,
            "object_fit": null,
            "object_position": null,
            "order": null,
            "overflow": null,
            "overflow_x": null,
            "overflow_y": null,
            "padding": null,
            "right": null,
            "top": null,
            "visibility": null,
            "width": null
          }
        },
        "df67680ce13b44d1812925b2c559e3bd": {
          "model_module": "@jupyter-widgets/base",
          "model_name": "LayoutModel",
          "model_module_version": "1.2.0",
          "state": {
            "_model_module": "@jupyter-widgets/base",
            "_model_module_version": "1.2.0",
            "_model_name": "LayoutModel",
            "_view_count": null,
            "_view_module": "@jupyter-widgets/base",
            "_view_module_version": "1.2.0",
            "_view_name": "LayoutView",
            "align_content": null,
            "align_items": null,
            "align_self": null,
            "border": null,
            "bottom": null,
            "display": null,
            "flex": null,
            "flex_flow": null,
            "grid_area": null,
            "grid_auto_columns": null,
            "grid_auto_flow": null,
            "grid_auto_rows": null,
            "grid_column": null,
            "grid_gap": null,
            "grid_row": null,
            "grid_template_areas": null,
            "grid_template_columns": null,
            "grid_template_rows": null,
            "height": null,
            "justify_content": null,
            "justify_items": null,
            "left": null,
            "margin": null,
            "max_height": null,
            "max_width": null,
            "min_height": null,
            "min_width": null,
            "object_fit": null,
            "object_position": null,
            "order": null,
            "overflow": null,
            "overflow_x": null,
            "overflow_y": null,
            "padding": null,
            "right": null,
            "top": null,
            "visibility": null,
            "width": null
          }
        },
        "092e8bca4b4e4d8ca80a371dfc33c495": {
          "model_module": "@jupyter-widgets/controls",
          "model_name": "DescriptionStyleModel",
          "model_module_version": "1.5.0",
          "state": {
            "_model_module": "@jupyter-widgets/controls",
            "_model_module_version": "1.5.0",
            "_model_name": "DescriptionStyleModel",
            "_view_count": null,
            "_view_module": "@jupyter-widgets/base",
            "_view_module_version": "1.2.0",
            "_view_name": "StyleView",
            "description_width": ""
          }
        },
        "08ca29b0f93c4a6aa7b9590774554207": {
          "model_module": "@jupyter-widgets/base",
          "model_name": "LayoutModel",
          "model_module_version": "1.2.0",
          "state": {
            "_model_module": "@jupyter-widgets/base",
            "_model_module_version": "1.2.0",
            "_model_name": "LayoutModel",
            "_view_count": null,
            "_view_module": "@jupyter-widgets/base",
            "_view_module_version": "1.2.0",
            "_view_name": "LayoutView",
            "align_content": null,
            "align_items": null,
            "align_self": null,
            "border": null,
            "bottom": null,
            "display": null,
            "flex": null,
            "flex_flow": null,
            "grid_area": null,
            "grid_auto_columns": null,
            "grid_auto_flow": null,
            "grid_auto_rows": null,
            "grid_column": null,
            "grid_gap": null,
            "grid_row": null,
            "grid_template_areas": null,
            "grid_template_columns": null,
            "grid_template_rows": null,
            "height": null,
            "justify_content": null,
            "justify_items": null,
            "left": null,
            "margin": null,
            "max_height": null,
            "max_width": null,
            "min_height": null,
            "min_width": null,
            "object_fit": null,
            "object_position": null,
            "order": null,
            "overflow": null,
            "overflow_x": null,
            "overflow_y": null,
            "padding": null,
            "right": null,
            "top": null,
            "visibility": null,
            "width": null
          }
        },
        "4ae19fcced2e4f2082e98f0e7deed45e": {
          "model_module": "@jupyter-widgets/controls",
          "model_name": "ProgressStyleModel",
          "model_module_version": "1.5.0",
          "state": {
            "_model_module": "@jupyter-widgets/controls",
            "_model_module_version": "1.5.0",
            "_model_name": "ProgressStyleModel",
            "_view_count": null,
            "_view_module": "@jupyter-widgets/base",
            "_view_module_version": "1.2.0",
            "_view_name": "StyleView",
            "bar_color": null,
            "description_width": ""
          }
        },
        "6042e3c898e44874afcd8ced238451bb": {
          "model_module": "@jupyter-widgets/base",
          "model_name": "LayoutModel",
          "model_module_version": "1.2.0",
          "state": {
            "_model_module": "@jupyter-widgets/base",
            "_model_module_version": "1.2.0",
            "_model_name": "LayoutModel",
            "_view_count": null,
            "_view_module": "@jupyter-widgets/base",
            "_view_module_version": "1.2.0",
            "_view_name": "LayoutView",
            "align_content": null,
            "align_items": null,
            "align_self": null,
            "border": null,
            "bottom": null,
            "display": null,
            "flex": null,
            "flex_flow": null,
            "grid_area": null,
            "grid_auto_columns": null,
            "grid_auto_flow": null,
            "grid_auto_rows": null,
            "grid_column": null,
            "grid_gap": null,
            "grid_row": null,
            "grid_template_areas": null,
            "grid_template_columns": null,
            "grid_template_rows": null,
            "height": null,
            "justify_content": null,
            "justify_items": null,
            "left": null,
            "margin": null,
            "max_height": null,
            "max_width": null,
            "min_height": null,
            "min_width": null,
            "object_fit": null,
            "object_position": null,
            "order": null,
            "overflow": null,
            "overflow_x": null,
            "overflow_y": null,
            "padding": null,
            "right": null,
            "top": null,
            "visibility": null,
            "width": null
          }
        },
        "440f43553f51424190175fa6a3dc87cd": {
          "model_module": "@jupyter-widgets/controls",
          "model_name": "DescriptionStyleModel",
          "model_module_version": "1.5.0",
          "state": {
            "_model_module": "@jupyter-widgets/controls",
            "_model_module_version": "1.5.0",
            "_model_name": "DescriptionStyleModel",
            "_view_count": null,
            "_view_module": "@jupyter-widgets/base",
            "_view_module_version": "1.2.0",
            "_view_name": "StyleView",
            "description_width": ""
          }
        },
        "fbce740ff0a64a23b2bb1240e47a75a4": {
          "model_module": "@jupyter-widgets/controls",
          "model_name": "HBoxModel",
          "model_module_version": "1.5.0",
          "state": {
            "_dom_classes": [],
            "_model_module": "@jupyter-widgets/controls",
            "_model_module_version": "1.5.0",
            "_model_name": "HBoxModel",
            "_view_count": null,
            "_view_module": "@jupyter-widgets/controls",
            "_view_module_version": "1.5.0",
            "_view_name": "HBoxView",
            "box_style": "",
            "children": [
              "IPY_MODEL_f8c1e766d56e427aa370ecf179963ab9",
              "IPY_MODEL_26aaba9f68bc4a39bf6c14eea694d1bb",
              "IPY_MODEL_9cbdb633d35440dc9c66e76901ada0f1"
            ],
            "layout": "IPY_MODEL_ad00bb495e524af5907a7f63a650db2d"
          }
        },
        "f8c1e766d56e427aa370ecf179963ab9": {
          "model_module": "@jupyter-widgets/controls",
          "model_name": "HTMLModel",
          "model_module_version": "1.5.0",
          "state": {
            "_dom_classes": [],
            "_model_module": "@jupyter-widgets/controls",
            "_model_module_version": "1.5.0",
            "_model_name": "HTMLModel",
            "_view_count": null,
            "_view_module": "@jupyter-widgets/controls",
            "_view_module_version": "1.5.0",
            "_view_name": "HTMLView",
            "description": "",
            "description_tooltip": null,
            "layout": "IPY_MODEL_06f42786aca84ce588db51f97fa2aec5",
            "placeholder": "​",
            "style": "IPY_MODEL_d81efa89d65d468393d1b41a397be88b",
            "value": "Downloading (…)rocessor_config.json: 100%"
          }
        },
        "26aaba9f68bc4a39bf6c14eea694d1bb": {
          "model_module": "@jupyter-widgets/controls",
          "model_name": "FloatProgressModel",
          "model_module_version": "1.5.0",
          "state": {
            "_dom_classes": [],
            "_model_module": "@jupyter-widgets/controls",
            "_model_module_version": "1.5.0",
            "_model_name": "FloatProgressModel",
            "_view_count": null,
            "_view_module": "@jupyter-widgets/controls",
            "_view_module_version": "1.5.0",
            "_view_name": "ProgressView",
            "bar_style": "success",
            "description": "",
            "description_tooltip": null,
            "layout": "IPY_MODEL_7d28e92c7d9445e2af998b7d312864e8",
            "max": 135,
            "min": 0,
            "orientation": "horizontal",
            "style": "IPY_MODEL_b757943e21cf4e818f487442d19e5568",
            "value": 135
          }
        },
        "9cbdb633d35440dc9c66e76901ada0f1": {
          "model_module": "@jupyter-widgets/controls",
          "model_name": "HTMLModel",
          "model_module_version": "1.5.0",
          "state": {
            "_dom_classes": [],
            "_model_module": "@jupyter-widgets/controls",
            "_model_module_version": "1.5.0",
            "_model_name": "HTMLModel",
            "_view_count": null,
            "_view_module": "@jupyter-widgets/controls",
            "_view_module_version": "1.5.0",
            "_view_name": "HTMLView",
            "description": "",
            "description_tooltip": null,
            "layout": "IPY_MODEL_7acb86570dc6472fba872723a338dc29",
            "placeholder": "​",
            "style": "IPY_MODEL_e8e11daae2b14e588b2ff77c709fa821",
            "value": " 135/135 [00:00&lt;00:00, 8.18kB/s]"
          }
        },
        "ad00bb495e524af5907a7f63a650db2d": {
          "model_module": "@jupyter-widgets/base",
          "model_name": "LayoutModel",
          "model_module_version": "1.2.0",
          "state": {
            "_model_module": "@jupyter-widgets/base",
            "_model_module_version": "1.2.0",
            "_model_name": "LayoutModel",
            "_view_count": null,
            "_view_module": "@jupyter-widgets/base",
            "_view_module_version": "1.2.0",
            "_view_name": "LayoutView",
            "align_content": null,
            "align_items": null,
            "align_self": null,
            "border": null,
            "bottom": null,
            "display": null,
            "flex": null,
            "flex_flow": null,
            "grid_area": null,
            "grid_auto_columns": null,
            "grid_auto_flow": null,
            "grid_auto_rows": null,
            "grid_column": null,
            "grid_gap": null,
            "grid_row": null,
            "grid_template_areas": null,
            "grid_template_columns": null,
            "grid_template_rows": null,
            "height": null,
            "justify_content": null,
            "justify_items": null,
            "left": null,
            "margin": null,
            "max_height": null,
            "max_width": null,
            "min_height": null,
            "min_width": null,
            "object_fit": null,
            "object_position": null,
            "order": null,
            "overflow": null,
            "overflow_x": null,
            "overflow_y": null,
            "padding": null,
            "right": null,
            "top": null,
            "visibility": null,
            "width": null
          }
        },
        "06f42786aca84ce588db51f97fa2aec5": {
          "model_module": "@jupyter-widgets/base",
          "model_name": "LayoutModel",
          "model_module_version": "1.2.0",
          "state": {
            "_model_module": "@jupyter-widgets/base",
            "_model_module_version": "1.2.0",
            "_model_name": "LayoutModel",
            "_view_count": null,
            "_view_module": "@jupyter-widgets/base",
            "_view_module_version": "1.2.0",
            "_view_name": "LayoutView",
            "align_content": null,
            "align_items": null,
            "align_self": null,
            "border": null,
            "bottom": null,
            "display": null,
            "flex": null,
            "flex_flow": null,
            "grid_area": null,
            "grid_auto_columns": null,
            "grid_auto_flow": null,
            "grid_auto_rows": null,
            "grid_column": null,
            "grid_gap": null,
            "grid_row": null,
            "grid_template_areas": null,
            "grid_template_columns": null,
            "grid_template_rows": null,
            "height": null,
            "justify_content": null,
            "justify_items": null,
            "left": null,
            "margin": null,
            "max_height": null,
            "max_width": null,
            "min_height": null,
            "min_width": null,
            "object_fit": null,
            "object_position": null,
            "order": null,
            "overflow": null,
            "overflow_x": null,
            "overflow_y": null,
            "padding": null,
            "right": null,
            "top": null,
            "visibility": null,
            "width": null
          }
        },
        "d81efa89d65d468393d1b41a397be88b": {
          "model_module": "@jupyter-widgets/controls",
          "model_name": "DescriptionStyleModel",
          "model_module_version": "1.5.0",
          "state": {
            "_model_module": "@jupyter-widgets/controls",
            "_model_module_version": "1.5.0",
            "_model_name": "DescriptionStyleModel",
            "_view_count": null,
            "_view_module": "@jupyter-widgets/base",
            "_view_module_version": "1.2.0",
            "_view_name": "StyleView",
            "description_width": ""
          }
        },
        "7d28e92c7d9445e2af998b7d312864e8": {
          "model_module": "@jupyter-widgets/base",
          "model_name": "LayoutModel",
          "model_module_version": "1.2.0",
          "state": {
            "_model_module": "@jupyter-widgets/base",
            "_model_module_version": "1.2.0",
            "_model_name": "LayoutModel",
            "_view_count": null,
            "_view_module": "@jupyter-widgets/base",
            "_view_module_version": "1.2.0",
            "_view_name": "LayoutView",
            "align_content": null,
            "align_items": null,
            "align_self": null,
            "border": null,
            "bottom": null,
            "display": null,
            "flex": null,
            "flex_flow": null,
            "grid_area": null,
            "grid_auto_columns": null,
            "grid_auto_flow": null,
            "grid_auto_rows": null,
            "grid_column": null,
            "grid_gap": null,
            "grid_row": null,
            "grid_template_areas": null,
            "grid_template_columns": null,
            "grid_template_rows": null,
            "height": null,
            "justify_content": null,
            "justify_items": null,
            "left": null,
            "margin": null,
            "max_height": null,
            "max_width": null,
            "min_height": null,
            "min_width": null,
            "object_fit": null,
            "object_position": null,
            "order": null,
            "overflow": null,
            "overflow_x": null,
            "overflow_y": null,
            "padding": null,
            "right": null,
            "top": null,
            "visibility": null,
            "width": null
          }
        },
        "b757943e21cf4e818f487442d19e5568": {
          "model_module": "@jupyter-widgets/controls",
          "model_name": "ProgressStyleModel",
          "model_module_version": "1.5.0",
          "state": {
            "_model_module": "@jupyter-widgets/controls",
            "_model_module_version": "1.5.0",
            "_model_name": "ProgressStyleModel",
            "_view_count": null,
            "_view_module": "@jupyter-widgets/base",
            "_view_module_version": "1.2.0",
            "_view_name": "StyleView",
            "bar_color": null,
            "description_width": ""
          }
        },
        "7acb86570dc6472fba872723a338dc29": {
          "model_module": "@jupyter-widgets/base",
          "model_name": "LayoutModel",
          "model_module_version": "1.2.0",
          "state": {
            "_model_module": "@jupyter-widgets/base",
            "_model_module_version": "1.2.0",
            "_model_name": "LayoutModel",
            "_view_count": null,
            "_view_module": "@jupyter-widgets/base",
            "_view_module_version": "1.2.0",
            "_view_name": "LayoutView",
            "align_content": null,
            "align_items": null,
            "align_self": null,
            "border": null,
            "bottom": null,
            "display": null,
            "flex": null,
            "flex_flow": null,
            "grid_area": null,
            "grid_auto_columns": null,
            "grid_auto_flow": null,
            "grid_auto_rows": null,
            "grid_column": null,
            "grid_gap": null,
            "grid_row": null,
            "grid_template_areas": null,
            "grid_template_columns": null,
            "grid_template_rows": null,
            "height": null,
            "justify_content": null,
            "justify_items": null,
            "left": null,
            "margin": null,
            "max_height": null,
            "max_width": null,
            "min_height": null,
            "min_width": null,
            "object_fit": null,
            "object_position": null,
            "order": null,
            "overflow": null,
            "overflow_x": null,
            "overflow_y": null,
            "padding": null,
            "right": null,
            "top": null,
            "visibility": null,
            "width": null
          }
        },
        "e8e11daae2b14e588b2ff77c709fa821": {
          "model_module": "@jupyter-widgets/controls",
          "model_name": "DescriptionStyleModel",
          "model_module_version": "1.5.0",
          "state": {
            "_model_module": "@jupyter-widgets/controls",
            "_model_module_version": "1.5.0",
            "_model_name": "DescriptionStyleModel",
            "_view_count": null,
            "_view_module": "@jupyter-widgets/base",
            "_view_module_version": "1.2.0",
            "_view_name": "StyleView",
            "description_width": ""
          }
        }
      }
    }
  },
  "cells": [
    {
      "cell_type": "markdown",
      "source": [
        "This is a script that we are using layoutLM2 on docvqa dataset"
      ],
      "metadata": {
        "id": "51njgAklNs1x"
      }
    },
    {
      "cell_type": "markdown",
      "source": [
        "# Importing Libraries"
      ],
      "metadata": {
        "id": "_tEc77jjNxjX"
      }
    },
    {
      "cell_type": "code",
      "execution_count": null,
      "metadata": {
        "colab": {
          "base_uri": "https://localhost:8080/",
          "height": 1000
        },
        "id": "oKxlTHXzNqXg",
        "outputId": "8abf685b-cf00-4220-ef5c-4fbc87dfa395"
      },
      "outputs": [
        {
          "output_type": "stream",
          "name": "stdout",
          "text": [
            "\u001b[2K     \u001b[90m━━━━━━━━━━━━━━━━━━━━━━━━━━━━━━━━━━━━━━━━\u001b[0m \u001b[32m7.7/7.7 MB\u001b[0m \u001b[31m22.3 MB/s\u001b[0m eta \u001b[36m0:00:00\u001b[0m\n",
            "\u001b[2K     \u001b[90m━━━━━━━━━━━━━━━━━━━━━━━━━━━━━━━━━━━━━━━━\u001b[0m \u001b[32m493.7/493.7 kB\u001b[0m \u001b[31m31.4 MB/s\u001b[0m eta \u001b[36m0:00:00\u001b[0m\n",
            "\u001b[2K     \u001b[90m━━━━━━━━━━━━━━━━━━━━━━━━━━━━━━━━━━━━━━━━\u001b[0m \u001b[32m302.0/302.0 kB\u001b[0m \u001b[31m27.9 MB/s\u001b[0m eta \u001b[36m0:00:00\u001b[0m\n",
            "\u001b[2K     \u001b[90m━━━━━━━━━━━━━━━━━━━━━━━━━━━━━━━━━━━━━━━━\u001b[0m \u001b[32m3.8/3.8 MB\u001b[0m \u001b[31m52.5 MB/s\u001b[0m eta \u001b[36m0:00:00\u001b[0m\n",
            "\u001b[2K     \u001b[90m━━━━━━━━━━━━━━━━━━━━━━━━━━━━━━━━━━━━━━━━\u001b[0m \u001b[32m1.3/1.3 MB\u001b[0m \u001b[31m64.0 MB/s\u001b[0m eta \u001b[36m0:00:00\u001b[0m\n",
            "\u001b[2K     \u001b[90m━━━━━━━━━━━━━━━━━━━━━━━━━━━━━━━━━━━━━━━━\u001b[0m \u001b[32m115.3/115.3 kB\u001b[0m \u001b[31m13.5 MB/s\u001b[0m eta \u001b[36m0:00:00\u001b[0m\n",
            "\u001b[2K     \u001b[90m━━━━━━━━━━━━━━━━━━━━━━━━━━━━━━━━━━━━━━━━\u001b[0m \u001b[32m134.8/134.8 kB\u001b[0m \u001b[31m18.6 MB/s\u001b[0m eta \u001b[36m0:00:00\u001b[0m\n",
            "\u001b[2K     \u001b[90m━━━━━━━━━━━━━━━━━━━━━━━━━━━━━━━━━━━━━━━━\u001b[0m \u001b[32m295.0/295.0 kB\u001b[0m \u001b[31m34.1 MB/s\u001b[0m eta \u001b[36m0:00:00\u001b[0m\n",
            "\u001b[?25hCollecting git+https://github.com/facebookresearch/detectron2.git\n",
            "  Cloning https://github.com/facebookresearch/detectron2.git to /tmp/pip-req-build-lysaf1zd\n",
            "  Running command git clone --filter=blob:none --quiet https://github.com/facebookresearch/detectron2.git /tmp/pip-req-build-lysaf1zd\n",
            "  Resolved https://github.com/facebookresearch/detectron2.git to commit 898507047cf441a1e4be7a729270961c401c4354\n",
            "  Preparing metadata (setup.py) ... \u001b[?25l\u001b[?25hdone\n",
            "Requirement already satisfied: Pillow>=7.1 in /usr/local/lib/python3.10/dist-packages (from detectron2==0.6) (9.4.0)\n",
            "Requirement already satisfied: matplotlib in /usr/local/lib/python3.10/dist-packages (from detectron2==0.6) (3.7.1)\n",
            "Requirement already satisfied: pycocotools>=2.0.2 in /usr/local/lib/python3.10/dist-packages (from detectron2==0.6) (2.0.7)\n",
            "Requirement already satisfied: termcolor>=1.1 in /usr/local/lib/python3.10/dist-packages (from detectron2==0.6) (2.3.0)\n",
            "Collecting yacs>=0.1.8 (from detectron2==0.6)\n",
            "  Downloading yacs-0.1.8-py3-none-any.whl (14 kB)\n",
            "Requirement already satisfied: tabulate in /usr/local/lib/python3.10/dist-packages (from detectron2==0.6) (0.9.0)\n",
            "Requirement already satisfied: cloudpickle in /usr/local/lib/python3.10/dist-packages (from detectron2==0.6) (2.2.1)\n",
            "Requirement already satisfied: tqdm>4.29.0 in /usr/local/lib/python3.10/dist-packages (from detectron2==0.6) (4.66.1)\n",
            "Requirement already satisfied: tensorboard in /usr/local/lib/python3.10/dist-packages (from detectron2==0.6) (2.14.1)\n",
            "Collecting fvcore<0.1.6,>=0.1.5 (from detectron2==0.6)\n",
            "  Downloading fvcore-0.1.5.post20221221.tar.gz (50 kB)\n",
            "\u001b[2K     \u001b[90m━━━━━━━━━━━━━━━━━━━━━━━━━━━━━━━━━━━━━━━━\u001b[0m \u001b[32m50.2/50.2 kB\u001b[0m \u001b[31m2.0 MB/s\u001b[0m eta \u001b[36m0:00:00\u001b[0m\n",
            "\u001b[?25h  Preparing metadata (setup.py) ... \u001b[?25l\u001b[?25hdone\n",
            "Collecting iopath<0.1.10,>=0.1.7 (from detectron2==0.6)\n",
            "  Downloading iopath-0.1.9-py3-none-any.whl (27 kB)\n",
            "Collecting omegaconf<2.4,>=2.1 (from detectron2==0.6)\n",
            "  Downloading omegaconf-2.3.0-py3-none-any.whl (79 kB)\n",
            "\u001b[2K     \u001b[90m━━━━━━━━━━━━━━━━━━━━━━━━━━━━━━━━━━━━━━━━\u001b[0m \u001b[32m79.5/79.5 kB\u001b[0m \u001b[31m5.1 MB/s\u001b[0m eta \u001b[36m0:00:00\u001b[0m\n",
            "\u001b[?25hCollecting hydra-core>=1.1 (from detectron2==0.6)\n",
            "  Downloading hydra_core-1.3.2-py3-none-any.whl (154 kB)\n",
            "\u001b[2K     \u001b[90m━━━━━━━━━━━━━━━━━━━━━━━━━━━━━━━━━━━━━━━━\u001b[0m \u001b[32m154.5/154.5 kB\u001b[0m \u001b[31m6.3 MB/s\u001b[0m eta \u001b[36m0:00:00\u001b[0m\n",
            "\u001b[?25hCollecting black (from detectron2==0.6)\n",
            "  Downloading black-23.10.1-cp310-cp310-manylinux_2_17_x86_64.manylinux2014_x86_64.whl (1.6 MB)\n",
            "\u001b[2K     \u001b[90m━━━━━━━━━━━━━━━━━━━━━━━━━━━━━━━━━━━━━━━━\u001b[0m \u001b[32m1.6/1.6 MB\u001b[0m \u001b[31m11.5 MB/s\u001b[0m eta \u001b[36m0:00:00\u001b[0m\n",
            "\u001b[?25hRequirement already satisfied: packaging in /usr/local/lib/python3.10/dist-packages (from detectron2==0.6) (23.2)\n",
            "Requirement already satisfied: numpy in /usr/local/lib/python3.10/dist-packages (from fvcore<0.1.6,>=0.1.5->detectron2==0.6) (1.23.5)\n",
            "Requirement already satisfied: pyyaml>=5.1 in /usr/local/lib/python3.10/dist-packages (from fvcore<0.1.6,>=0.1.5->detectron2==0.6) (6.0.1)\n",
            "Collecting antlr4-python3-runtime==4.9.* (from hydra-core>=1.1->detectron2==0.6)\n",
            "  Downloading antlr4-python3-runtime-4.9.3.tar.gz (117 kB)\n",
            "\u001b[2K     \u001b[90m━━━━━━━━━━━━━━━━━━━━━━━━━━━━━━━━━━━━━━━━\u001b[0m \u001b[32m117.0/117.0 kB\u001b[0m \u001b[31m13.7 MB/s\u001b[0m eta \u001b[36m0:00:00\u001b[0m\n",
            "\u001b[?25h  Preparing metadata (setup.py) ... \u001b[?25l\u001b[?25hdone\n",
            "Collecting portalocker (from iopath<0.1.10,>=0.1.7->detectron2==0.6)\n",
            "  Downloading portalocker-2.8.2-py3-none-any.whl (17 kB)\n",
            "Requirement already satisfied: contourpy>=1.0.1 in /usr/local/lib/python3.10/dist-packages (from matplotlib->detectron2==0.6) (1.1.1)\n",
            "Requirement already satisfied: cycler>=0.10 in /usr/local/lib/python3.10/dist-packages (from matplotlib->detectron2==0.6) (0.12.1)\n",
            "Requirement already satisfied: fonttools>=4.22.0 in /usr/local/lib/python3.10/dist-packages (from matplotlib->detectron2==0.6) (4.43.1)\n",
            "Requirement already satisfied: kiwisolver>=1.0.1 in /usr/local/lib/python3.10/dist-packages (from matplotlib->detectron2==0.6) (1.4.5)\n",
            "Requirement already satisfied: pyparsing>=2.3.1 in /usr/local/lib/python3.10/dist-packages (from matplotlib->detectron2==0.6) (3.1.1)\n",
            "Requirement already satisfied: python-dateutil>=2.7 in /usr/local/lib/python3.10/dist-packages (from matplotlib->detectron2==0.6) (2.8.2)\n",
            "Requirement already satisfied: click>=8.0.0 in /usr/local/lib/python3.10/dist-packages (from black->detectron2==0.6) (8.1.7)\n",
            "Collecting mypy-extensions>=0.4.3 (from black->detectron2==0.6)\n",
            "  Downloading mypy_extensions-1.0.0-py3-none-any.whl (4.7 kB)\n",
            "Collecting pathspec>=0.9.0 (from black->detectron2==0.6)\n",
            "  Downloading pathspec-0.11.2-py3-none-any.whl (29 kB)\n",
            "Requirement already satisfied: platformdirs>=2 in /usr/local/lib/python3.10/dist-packages (from black->detectron2==0.6) (3.11.0)\n",
            "Requirement already satisfied: tomli>=1.1.0 in /usr/local/lib/python3.10/dist-packages (from black->detectron2==0.6) (2.0.1)\n",
            "Requirement already satisfied: typing-extensions>=4.0.1 in /usr/local/lib/python3.10/dist-packages (from black->detectron2==0.6) (4.5.0)\n",
            "Requirement already satisfied: absl-py>=0.4 in /usr/local/lib/python3.10/dist-packages (from tensorboard->detectron2==0.6) (1.4.0)\n",
            "Requirement already satisfied: grpcio>=1.48.2 in /usr/local/lib/python3.10/dist-packages (from tensorboard->detectron2==0.6) (1.59.0)\n",
            "Requirement already satisfied: google-auth<3,>=1.6.3 in /usr/local/lib/python3.10/dist-packages (from tensorboard->detectron2==0.6) (2.17.3)\n",
            "Requirement already satisfied: google-auth-oauthlib<1.1,>=0.5 in /usr/local/lib/python3.10/dist-packages (from tensorboard->detectron2==0.6) (1.0.0)\n",
            "Requirement already satisfied: markdown>=2.6.8 in /usr/local/lib/python3.10/dist-packages (from tensorboard->detectron2==0.6) (3.5)\n",
            "Requirement already satisfied: protobuf>=3.19.6 in /usr/local/lib/python3.10/dist-packages (from tensorboard->detectron2==0.6) (3.20.3)\n",
            "Requirement already satisfied: requests<3,>=2.21.0 in /usr/local/lib/python3.10/dist-packages (from tensorboard->detectron2==0.6) (2.31.0)\n",
            "Requirement already satisfied: setuptools>=41.0.0 in /usr/local/lib/python3.10/dist-packages (from tensorboard->detectron2==0.6) (67.7.2)\n",
            "Requirement already satisfied: six>1.9 in /usr/local/lib/python3.10/dist-packages (from tensorboard->detectron2==0.6) (1.16.0)\n",
            "Requirement already satisfied: tensorboard-data-server<0.8.0,>=0.7.0 in /usr/local/lib/python3.10/dist-packages (from tensorboard->detectron2==0.6) (0.7.2)\n",
            "Requirement already satisfied: werkzeug>=1.0.1 in /usr/local/lib/python3.10/dist-packages (from tensorboard->detectron2==0.6) (3.0.1)\n",
            "Requirement already satisfied: cachetools<6.0,>=2.0.0 in /usr/local/lib/python3.10/dist-packages (from google-auth<3,>=1.6.3->tensorboard->detectron2==0.6) (5.3.2)\n",
            "Requirement already satisfied: pyasn1-modules>=0.2.1 in /usr/local/lib/python3.10/dist-packages (from google-auth<3,>=1.6.3->tensorboard->detectron2==0.6) (0.3.0)\n",
            "Requirement already satisfied: rsa<5,>=3.1.4 in /usr/local/lib/python3.10/dist-packages (from google-auth<3,>=1.6.3->tensorboard->detectron2==0.6) (4.9)\n",
            "Requirement already satisfied: requests-oauthlib>=0.7.0 in /usr/local/lib/python3.10/dist-packages (from google-auth-oauthlib<1.1,>=0.5->tensorboard->detectron2==0.6) (1.3.1)\n",
            "Requirement already satisfied: charset-normalizer<4,>=2 in /usr/local/lib/python3.10/dist-packages (from requests<3,>=2.21.0->tensorboard->detectron2==0.6) (3.3.1)\n",
            "Requirement already satisfied: idna<4,>=2.5 in /usr/local/lib/python3.10/dist-packages (from requests<3,>=2.21.0->tensorboard->detectron2==0.6) (3.4)\n",
            "Requirement already satisfied: urllib3<3,>=1.21.1 in /usr/local/lib/python3.10/dist-packages (from requests<3,>=2.21.0->tensorboard->detectron2==0.6) (2.0.7)\n",
            "Requirement already satisfied: certifi>=2017.4.17 in /usr/local/lib/python3.10/dist-packages (from requests<3,>=2.21.0->tensorboard->detectron2==0.6) (2023.7.22)\n",
            "Requirement already satisfied: MarkupSafe>=2.1.1 in /usr/local/lib/python3.10/dist-packages (from werkzeug>=1.0.1->tensorboard->detectron2==0.6) (2.1.3)\n",
            "Requirement already satisfied: pyasn1<0.6.0,>=0.4.6 in /usr/local/lib/python3.10/dist-packages (from pyasn1-modules>=0.2.1->google-auth<3,>=1.6.3->tensorboard->detectron2==0.6) (0.5.0)\n",
            "Requirement already satisfied: oauthlib>=3.0.0 in /usr/local/lib/python3.10/dist-packages (from requests-oauthlib>=0.7.0->google-auth-oauthlib<1.1,>=0.5->tensorboard->detectron2==0.6) (3.2.2)\n",
            "Building wheels for collected packages: detectron2, fvcore, antlr4-python3-runtime\n",
            "  Building wheel for detectron2 (setup.py) ... \u001b[?25l\u001b[?25hdone\n",
            "  Created wheel for detectron2: filename=detectron2-0.6-cp310-cp310-linux_x86_64.whl size=6118668 sha256=0dd51912ffc07b3369cc09b258427f19fc2c48db6c89a1cb1207ecc84ae1ea72\n",
            "  Stored in directory: /tmp/pip-ephem-wheel-cache-18r7arwb/wheels/47/e5/15/94c80df2ba85500c5d76599cc307c0a7079d0e221bb6fc4375\n",
            "  Building wheel for fvcore (setup.py) ... \u001b[?25l\u001b[?25hdone\n",
            "  Created wheel for fvcore: filename=fvcore-0.1.5.post20221221-py3-none-any.whl size=61400 sha256=ea158adb57a02ac1b7371809ccdc2e0beadef56490a3a98b6dedc94656039cce\n",
            "  Stored in directory: /root/.cache/pip/wheels/01/c0/af/77c1cf53a1be9e42a52b48e5af2169d40ec2e89f7362489dd0\n",
            "  Building wheel for antlr4-python3-runtime (setup.py) ... \u001b[?25l\u001b[?25hdone\n",
            "  Created wheel for antlr4-python3-runtime: filename=antlr4_python3_runtime-4.9.3-py3-none-any.whl size=144554 sha256=be47dab93f04db5f504834ca291ee031155b12881400b3f0448b6663825fbf34\n",
            "  Stored in directory: /root/.cache/pip/wheels/12/93/dd/1f6a127edc45659556564c5730f6d4e300888f4bca2d4c5a88\n",
            "Successfully built detectron2 fvcore antlr4-python3-runtime\n",
            "Installing collected packages: antlr4-python3-runtime, yacs, portalocker, pathspec, omegaconf, mypy-extensions, iopath, hydra-core, black, fvcore, detectron2\n",
            "Successfully installed antlr4-python3-runtime-4.9.3 black-23.10.1 detectron2-0.6 fvcore-0.1.5.post20221221 hydra-core-1.3.2 iopath-0.1.9 mypy-extensions-1.0.0 omegaconf-2.3.0 pathspec-0.11.2 portalocker-2.8.2 yacs-0.1.8\n"
          ]
        },
        {
          "output_type": "display_data",
          "data": {
            "application/vnd.colab-display-data+json": {
              "pip_warning": {
                "packages": [
                  "pydevd_plugins"
                ]
              }
            }
          },
          "metadata": {}
        },
        {
          "output_type": "stream",
          "name": "stdout",
          "text": [
            "Requirement already satisfied: torchvision in /usr/local/lib/python3.10/dist-packages (0.16.0+cu118)\n",
            "Requirement already satisfied: numpy in /usr/local/lib/python3.10/dist-packages (from torchvision) (1.23.5)\n",
            "Requirement already satisfied: requests in /usr/local/lib/python3.10/dist-packages (from torchvision) (2.31.0)\n",
            "Requirement already satisfied: torch==2.1.0 in /usr/local/lib/python3.10/dist-packages (from torchvision) (2.1.0+cu118)\n",
            "Requirement already satisfied: pillow!=8.3.*,>=5.3.0 in /usr/local/lib/python3.10/dist-packages (from torchvision) (9.4.0)\n",
            "Requirement already satisfied: filelock in /usr/local/lib/python3.10/dist-packages (from torch==2.1.0->torchvision) (3.12.4)\n",
            "Requirement already satisfied: typing-extensions in /usr/local/lib/python3.10/dist-packages (from torch==2.1.0->torchvision) (4.5.0)\n",
            "Requirement already satisfied: sympy in /usr/local/lib/python3.10/dist-packages (from torch==2.1.0->torchvision) (1.12)\n",
            "Requirement already satisfied: networkx in /usr/local/lib/python3.10/dist-packages (from torch==2.1.0->torchvision) (3.2)\n",
            "Requirement already satisfied: jinja2 in /usr/local/lib/python3.10/dist-packages (from torch==2.1.0->torchvision) (3.1.2)\n",
            "Requirement already satisfied: fsspec in /usr/local/lib/python3.10/dist-packages (from torch==2.1.0->torchvision) (2023.6.0)\n",
            "Requirement already satisfied: triton==2.1.0 in /usr/local/lib/python3.10/dist-packages (from torch==2.1.0->torchvision) (2.1.0)\n",
            "Requirement already satisfied: charset-normalizer<4,>=2 in /usr/local/lib/python3.10/dist-packages (from requests->torchvision) (3.3.1)\n",
            "Requirement already satisfied: idna<4,>=2.5 in /usr/local/lib/python3.10/dist-packages (from requests->torchvision) (3.4)\n",
            "Requirement already satisfied: urllib3<3,>=1.21.1 in /usr/local/lib/python3.10/dist-packages (from requests->torchvision) (2.0.7)\n",
            "Requirement already satisfied: certifi>=2017.4.17 in /usr/local/lib/python3.10/dist-packages (from requests->torchvision) (2023.7.22)\n",
            "Requirement already satisfied: MarkupSafe>=2.0 in /usr/local/lib/python3.10/dist-packages (from jinja2->torch==2.1.0->torchvision) (2.1.3)\n",
            "Requirement already satisfied: mpmath>=0.19 in /usr/local/lib/python3.10/dist-packages (from sympy->torch==2.1.0->torchvision) (1.3.0)\n",
            "Reading package lists... Done\n",
            "Building dependency tree... Done\n",
            "Reading state information... Done\n",
            "The following additional packages will be installed:\n",
            "  tesseract-ocr-eng tesseract-ocr-osd\n",
            "The following NEW packages will be installed:\n",
            "  tesseract-ocr tesseract-ocr-eng tesseract-ocr-osd\n",
            "0 upgraded, 3 newly installed, 0 to remove and 19 not upgraded.\n",
            "Need to get 4,816 kB of archives.\n",
            "After this operation, 15.6 MB of additional disk space will be used.\n",
            "Get:1 http://archive.ubuntu.com/ubuntu jammy/universe amd64 tesseract-ocr-eng all 1:4.00~git30-7274cfa-1.1 [1,591 kB]\n",
            "Get:2 http://archive.ubuntu.com/ubuntu jammy/universe amd64 tesseract-ocr-osd all 1:4.00~git30-7274cfa-1.1 [2,990 kB]\n",
            "Get:3 http://archive.ubuntu.com/ubuntu jammy/universe amd64 tesseract-ocr amd64 4.1.1-2.1build1 [236 kB]\n",
            "Fetched 4,816 kB in 1s (5,099 kB/s)\n",
            "debconf: unable to initialize frontend: Dialog\n",
            "debconf: (No usable dialog-like program is installed, so the dialog based frontend cannot be used. at /usr/share/perl5/Debconf/FrontEnd/Dialog.pm line 78, <> line 3.)\n",
            "debconf: falling back to frontend: Readline\n",
            "debconf: unable to initialize frontend: Readline\n",
            "debconf: (This frontend requires a controlling tty.)\n",
            "debconf: falling back to frontend: Teletype\n",
            "dpkg-preconfigure: unable to re-open stdin: \n",
            "Selecting previously unselected package tesseract-ocr-eng.\n",
            "(Reading database ... 120874 files and directories currently installed.)\n",
            "Preparing to unpack .../tesseract-ocr-eng_1%3a4.00~git30-7274cfa-1.1_all.deb ...\n",
            "Unpacking tesseract-ocr-eng (1:4.00~git30-7274cfa-1.1) ...\n",
            "Selecting previously unselected package tesseract-ocr-osd.\n",
            "Preparing to unpack .../tesseract-ocr-osd_1%3a4.00~git30-7274cfa-1.1_all.deb ...\n",
            "Unpacking tesseract-ocr-osd (1:4.00~git30-7274cfa-1.1) ...\n",
            "Selecting previously unselected package tesseract-ocr.\n",
            "Preparing to unpack .../tesseract-ocr_4.1.1-2.1build1_amd64.deb ...\n",
            "Unpacking tesseract-ocr (4.1.1-2.1build1) ...\n",
            "Setting up tesseract-ocr-eng (1:4.00~git30-7274cfa-1.1) ...\n",
            "Setting up tesseract-ocr-osd (1:4.00~git30-7274cfa-1.1) ...\n",
            "Setting up tesseract-ocr (4.1.1-2.1build1) ...\n",
            "Processing triggers for man-db (2.10.2-1) ...\n"
          ]
        }
      ],
      "source": [
        "!pip3 install -q transformers datasets\n",
        "!pip3 install 'git+https://github.com/facebookresearch/detectron2.git'\n",
        "!pip3 install torchvision\n",
        "!sudo apt install tesseract-ocr\n",
        "!pip3 install -q pytesseract"
      ]
    },
    {
      "cell_type": "code",
      "source": [
        "!sudo apt install tesseract-ocr\n",
        "!pip install -q pytesseract"
      ],
      "metadata": {
        "id": "pSJl8itQRCT8",
        "colab": {
          "base_uri": "https://localhost:8080/"
        },
        "outputId": "2f785b73-5c71-4c20-aa69-bd4f4ccf9e10"
      },
      "execution_count": null,
      "outputs": [
        {
          "output_type": "stream",
          "name": "stdout",
          "text": [
            "Reading package lists... Done\n",
            "Building dependency tree... Done\n",
            "Reading state information... Done\n",
            "tesseract-ocr is already the newest version (4.1.1-2.1build1).\n",
            "0 upgraded, 0 newly installed, 0 to remove and 19 not upgraded.\n"
          ]
        }
      ]
    },
    {
      "cell_type": "code",
      "source": [
        "import numpy as np\n",
        "import pandas as pd\n",
        "import matplotlib.pyplot as plt\n",
        "\n",
        "import cv2\n",
        "from PIL import Image\n",
        "\n",
        "import torch\n",
        "import torchvision\n",
        "from torch.utils.data import Dataset,DataLoader\n",
        "\n",
        "import transformers\n",
        "from transformers import LayoutLMv2FeatureExtractor,AutoTokenizer\n",
        "from transformers import AutoModelForQuestionAnswering\n",
        "from transformers import AdamW\n",
        "# import accelerate\n",
        "import datasets\n",
        "from datasets import Dataset\n",
        "from datasets import Features, Sequence, Value, Array2D, Array3D"
      ],
      "metadata": {
        "id": "oR8_aKCGN4J1"
      },
      "execution_count": null,
      "outputs": []
    },
    {
      "cell_type": "code",
      "source": [
        "device = \"cuda\" if torch.cuda.is_available() else \"cpu\""
      ],
      "metadata": {
        "id": "5adppglj4Lmr"
      },
      "execution_count": null,
      "outputs": []
    },
    {
      "cell_type": "markdown",
      "source": [
        "# Loading Model\n",
        "For the model purposes we are using layoutLM2 which we are loading from huggingface\n"
      ],
      "metadata": {
        "id": "_ZGje3UNSKqY"
      }
    },
    {
      "cell_type": "code",
      "source": [
        "model_checkpoint = \"microsoft/layoutlmv2-base-uncased\"\n",
        "batch_size = 4"
      ],
      "metadata": {
        "id": "-IexiafcRvEj"
      },
      "execution_count": null,
      "outputs": []
    },
    {
      "cell_type": "markdown",
      "source": [
        "# Analysis of Dataset\n",
        "Due to constarints of google colab we are only using the validation split of DocVQA"
      ],
      "metadata": {
        "id": "RsCO1QQsSl82"
      }
    },
    {
      "cell_type": "markdown",
      "source": [
        "## Loading the validation Data"
      ],
      "metadata": {
        "id": "8Xy8BM_jX06M"
      }
    },
    {
      "cell_type": "code",
      "source": [
        "import json\n",
        "\n",
        "with open('/content/drive/MyDrive/val/val_v1.0.json') as f:\n",
        "  data = json.load(f)"
      ],
      "metadata": {
        "id": "viGsrACiShos"
      },
      "execution_count": null,
      "outputs": []
    },
    {
      "cell_type": "code",
      "source": [
        "data.keys()"
      ],
      "metadata": {
        "id": "n35RSyNBTNXV",
        "colab": {
          "base_uri": "https://localhost:8080/"
        },
        "outputId": "c79a27de-d9e4-42d7-ee23-5162a2f585ad"
      },
      "execution_count": null,
      "outputs": [
        {
          "output_type": "execute_result",
          "data": {
            "text/plain": [
              "dict_keys(['dataset_name', 'dataset_version', 'dataset_split', 'data'])"
            ]
          },
          "metadata": {},
          "execution_count": 7
        }
      ]
    },
    {
      "cell_type": "code",
      "source": [
        "print(\"Dataset name:\", data['dataset_name'])\n",
        "print(\"Dataset split:\", data['dataset_split'])"
      ],
      "metadata": {
        "id": "hba9pIinTPQE",
        "colab": {
          "base_uri": "https://localhost:8080/"
        },
        "outputId": "19544c3f-f9e9-4f2f-ae22-37f40cbfc310"
      },
      "execution_count": null,
      "outputs": [
        {
          "output_type": "stream",
          "name": "stdout",
          "text": [
            "Dataset name: docvqa\n",
            "Dataset split: val\n"
          ]
        }
      ]
    },
    {
      "cell_type": "code",
      "source": [
        "doc_df = pd.DataFrame(data['data'])\n",
        "doc_df.head()"
      ],
      "metadata": {
        "id": "acRztwopTPs9",
        "colab": {
          "base_uri": "https://localhost:8080/",
          "height": 327
        },
        "outputId": "11fef7e7-c221-42e6-a3c7-ab64925b2be3"
      },
      "execution_count": null,
      "outputs": [
        {
          "output_type": "execute_result",
          "data": {
            "text/plain": [
              "   questionId                                           question  \\\n",
              "0       49153  What is the ‘actual’ value per 1000, during th...   \n",
              "1       24580                        What is name of university?   \n",
              "2       57349                   What is the name of the company?   \n",
              "3       24581                  Where is the university located ?   \n",
              "4       24582                      To whom is the document sent?   \n",
              "\n",
              "                       image  docId ucsf_document_id ucsf_document_page_no  \\\n",
              "0  documents/pybv0228_81.png  14465         pybv0228                    81   \n",
              "1   documents/nkbl0226_1.png   7027         nkbl0226                     1   \n",
              "2  documents/snbx0223_22.png   4733         snbx0223                    22   \n",
              "3   documents/nkbl0226_1.png   7027         nkbl0226                     1   \n",
              "4   documents/nkbl0226_1.png   7027         nkbl0226                     1   \n",
              "\n",
              "                                             answers data_split  \n",
              "0                                             [0.28]        val  \n",
              "1  [university of california, University of Calif...        val  \n",
              "2                         [itc limited, ITC Limited]        val  \n",
              "3                             [san diego, San Diego]        val  \n",
              "4                                             [Paul]        val  "
            ],
            "text/html": [
              "\n",
              "  <div id=\"df-41bd6900-fa71-42ef-8f97-beb9d62028a1\" class=\"colab-df-container\">\n",
              "    <div>\n",
              "<style scoped>\n",
              "    .dataframe tbody tr th:only-of-type {\n",
              "        vertical-align: middle;\n",
              "    }\n",
              "\n",
              "    .dataframe tbody tr th {\n",
              "        vertical-align: top;\n",
              "    }\n",
              "\n",
              "    .dataframe thead th {\n",
              "        text-align: right;\n",
              "    }\n",
              "</style>\n",
              "<table border=\"1\" class=\"dataframe\">\n",
              "  <thead>\n",
              "    <tr style=\"text-align: right;\">\n",
              "      <th></th>\n",
              "      <th>questionId</th>\n",
              "      <th>question</th>\n",
              "      <th>image</th>\n",
              "      <th>docId</th>\n",
              "      <th>ucsf_document_id</th>\n",
              "      <th>ucsf_document_page_no</th>\n",
              "      <th>answers</th>\n",
              "      <th>data_split</th>\n",
              "    </tr>\n",
              "  </thead>\n",
              "  <tbody>\n",
              "    <tr>\n",
              "      <th>0</th>\n",
              "      <td>49153</td>\n",
              "      <td>What is the ‘actual’ value per 1000, during th...</td>\n",
              "      <td>documents/pybv0228_81.png</td>\n",
              "      <td>14465</td>\n",
              "      <td>pybv0228</td>\n",
              "      <td>81</td>\n",
              "      <td>[0.28]</td>\n",
              "      <td>val</td>\n",
              "    </tr>\n",
              "    <tr>\n",
              "      <th>1</th>\n",
              "      <td>24580</td>\n",
              "      <td>What is name of university?</td>\n",
              "      <td>documents/nkbl0226_1.png</td>\n",
              "      <td>7027</td>\n",
              "      <td>nkbl0226</td>\n",
              "      <td>1</td>\n",
              "      <td>[university of california, University of Calif...</td>\n",
              "      <td>val</td>\n",
              "    </tr>\n",
              "    <tr>\n",
              "      <th>2</th>\n",
              "      <td>57349</td>\n",
              "      <td>What is the name of the company?</td>\n",
              "      <td>documents/snbx0223_22.png</td>\n",
              "      <td>4733</td>\n",
              "      <td>snbx0223</td>\n",
              "      <td>22</td>\n",
              "      <td>[itc limited, ITC Limited]</td>\n",
              "      <td>val</td>\n",
              "    </tr>\n",
              "    <tr>\n",
              "      <th>3</th>\n",
              "      <td>24581</td>\n",
              "      <td>Where is the university located ?</td>\n",
              "      <td>documents/nkbl0226_1.png</td>\n",
              "      <td>7027</td>\n",
              "      <td>nkbl0226</td>\n",
              "      <td>1</td>\n",
              "      <td>[san diego, San Diego]</td>\n",
              "      <td>val</td>\n",
              "    </tr>\n",
              "    <tr>\n",
              "      <th>4</th>\n",
              "      <td>24582</td>\n",
              "      <td>To whom is the document sent?</td>\n",
              "      <td>documents/nkbl0226_1.png</td>\n",
              "      <td>7027</td>\n",
              "      <td>nkbl0226</td>\n",
              "      <td>1</td>\n",
              "      <td>[Paul]</td>\n",
              "      <td>val</td>\n",
              "    </tr>\n",
              "  </tbody>\n",
              "</table>\n",
              "</div>\n",
              "    <div class=\"colab-df-buttons\">\n",
              "\n",
              "  <div class=\"colab-df-container\">\n",
              "    <button class=\"colab-df-convert\" onclick=\"convertToInteractive('df-41bd6900-fa71-42ef-8f97-beb9d62028a1')\"\n",
              "            title=\"Convert this dataframe to an interactive table.\"\n",
              "            style=\"display:none;\">\n",
              "\n",
              "  <svg xmlns=\"http://www.w3.org/2000/svg\" height=\"24px\" viewBox=\"0 -960 960 960\">\n",
              "    <path d=\"M120-120v-720h720v720H120Zm60-500h600v-160H180v160Zm220 220h160v-160H400v160Zm0 220h160v-160H400v160ZM180-400h160v-160H180v160Zm440 0h160v-160H620v160ZM180-180h160v-160H180v160Zm440 0h160v-160H620v160Z\"/>\n",
              "  </svg>\n",
              "    </button>\n",
              "\n",
              "  <style>\n",
              "    .colab-df-container {\n",
              "      display:flex;\n",
              "      gap: 12px;\n",
              "    }\n",
              "\n",
              "    .colab-df-convert {\n",
              "      background-color: #E8F0FE;\n",
              "      border: none;\n",
              "      border-radius: 50%;\n",
              "      cursor: pointer;\n",
              "      display: none;\n",
              "      fill: #1967D2;\n",
              "      height: 32px;\n",
              "      padding: 0 0 0 0;\n",
              "      width: 32px;\n",
              "    }\n",
              "\n",
              "    .colab-df-convert:hover {\n",
              "      background-color: #E2EBFA;\n",
              "      box-shadow: 0px 1px 2px rgba(60, 64, 67, 0.3), 0px 1px 3px 1px rgba(60, 64, 67, 0.15);\n",
              "      fill: #174EA6;\n",
              "    }\n",
              "\n",
              "    .colab-df-buttons div {\n",
              "      margin-bottom: 4px;\n",
              "    }\n",
              "\n",
              "    [theme=dark] .colab-df-convert {\n",
              "      background-color: #3B4455;\n",
              "      fill: #D2E3FC;\n",
              "    }\n",
              "\n",
              "    [theme=dark] .colab-df-convert:hover {\n",
              "      background-color: #434B5C;\n",
              "      box-shadow: 0px 1px 3px 1px rgba(0, 0, 0, 0.15);\n",
              "      filter: drop-shadow(0px 1px 2px rgba(0, 0, 0, 0.3));\n",
              "      fill: #FFFFFF;\n",
              "    }\n",
              "  </style>\n",
              "\n",
              "    <script>\n",
              "      const buttonEl =\n",
              "        document.querySelector('#df-41bd6900-fa71-42ef-8f97-beb9d62028a1 button.colab-df-convert');\n",
              "      buttonEl.style.display =\n",
              "        google.colab.kernel.accessAllowed ? 'block' : 'none';\n",
              "\n",
              "      async function convertToInteractive(key) {\n",
              "        const element = document.querySelector('#df-41bd6900-fa71-42ef-8f97-beb9d62028a1');\n",
              "        const dataTable =\n",
              "          await google.colab.kernel.invokeFunction('convertToInteractive',\n",
              "                                                    [key], {});\n",
              "        if (!dataTable) return;\n",
              "\n",
              "        const docLinkHtml = 'Like what you see? Visit the ' +\n",
              "          '<a target=\"_blank\" href=https://colab.research.google.com/notebooks/data_table.ipynb>data table notebook</a>'\n",
              "          + ' to learn more about interactive tables.';\n",
              "        element.innerHTML = '';\n",
              "        dataTable['output_type'] = 'display_data';\n",
              "        await google.colab.output.renderOutput(dataTable, element);\n",
              "        const docLink = document.createElement('div');\n",
              "        docLink.innerHTML = docLinkHtml;\n",
              "        element.appendChild(docLink);\n",
              "      }\n",
              "    </script>\n",
              "  </div>\n",
              "\n",
              "\n",
              "<div id=\"df-16e56711-adaa-4946-9bce-61075187a274\">\n",
              "  <button class=\"colab-df-quickchart\" onclick=\"quickchart('df-16e56711-adaa-4946-9bce-61075187a274')\"\n",
              "            title=\"Suggest charts.\"\n",
              "            style=\"display:none;\">\n",
              "\n",
              "<svg xmlns=\"http://www.w3.org/2000/svg\" height=\"24px\"viewBox=\"0 0 24 24\"\n",
              "     width=\"24px\">\n",
              "    <g>\n",
              "        <path d=\"M19 3H5c-1.1 0-2 .9-2 2v14c0 1.1.9 2 2 2h14c1.1 0 2-.9 2-2V5c0-1.1-.9-2-2-2zM9 17H7v-7h2v7zm4 0h-2V7h2v10zm4 0h-2v-4h2v4z\"/>\n",
              "    </g>\n",
              "</svg>\n",
              "  </button>\n",
              "\n",
              "<style>\n",
              "  .colab-df-quickchart {\n",
              "      --bg-color: #E8F0FE;\n",
              "      --fill-color: #1967D2;\n",
              "      --hover-bg-color: #E2EBFA;\n",
              "      --hover-fill-color: #174EA6;\n",
              "      --disabled-fill-color: #AAA;\n",
              "      --disabled-bg-color: #DDD;\n",
              "  }\n",
              "\n",
              "  [theme=dark] .colab-df-quickchart {\n",
              "      --bg-color: #3B4455;\n",
              "      --fill-color: #D2E3FC;\n",
              "      --hover-bg-color: #434B5C;\n",
              "      --hover-fill-color: #FFFFFF;\n",
              "      --disabled-bg-color: #3B4455;\n",
              "      --disabled-fill-color: #666;\n",
              "  }\n",
              "\n",
              "  .colab-df-quickchart {\n",
              "    background-color: var(--bg-color);\n",
              "    border: none;\n",
              "    border-radius: 50%;\n",
              "    cursor: pointer;\n",
              "    display: none;\n",
              "    fill: var(--fill-color);\n",
              "    height: 32px;\n",
              "    padding: 0;\n",
              "    width: 32px;\n",
              "  }\n",
              "\n",
              "  .colab-df-quickchart:hover {\n",
              "    background-color: var(--hover-bg-color);\n",
              "    box-shadow: 0 1px 2px rgba(60, 64, 67, 0.3), 0 1px 3px 1px rgba(60, 64, 67, 0.15);\n",
              "    fill: var(--button-hover-fill-color);\n",
              "  }\n",
              "\n",
              "  .colab-df-quickchart-complete:disabled,\n",
              "  .colab-df-quickchart-complete:disabled:hover {\n",
              "    background-color: var(--disabled-bg-color);\n",
              "    fill: var(--disabled-fill-color);\n",
              "    box-shadow: none;\n",
              "  }\n",
              "\n",
              "  .colab-df-spinner {\n",
              "    border: 2px solid var(--fill-color);\n",
              "    border-color: transparent;\n",
              "    border-bottom-color: var(--fill-color);\n",
              "    animation:\n",
              "      spin 1s steps(1) infinite;\n",
              "  }\n",
              "\n",
              "  @keyframes spin {\n",
              "    0% {\n",
              "      border-color: transparent;\n",
              "      border-bottom-color: var(--fill-color);\n",
              "      border-left-color: var(--fill-color);\n",
              "    }\n",
              "    20% {\n",
              "      border-color: transparent;\n",
              "      border-left-color: var(--fill-color);\n",
              "      border-top-color: var(--fill-color);\n",
              "    }\n",
              "    30% {\n",
              "      border-color: transparent;\n",
              "      border-left-color: var(--fill-color);\n",
              "      border-top-color: var(--fill-color);\n",
              "      border-right-color: var(--fill-color);\n",
              "    }\n",
              "    40% {\n",
              "      border-color: transparent;\n",
              "      border-right-color: var(--fill-color);\n",
              "      border-top-color: var(--fill-color);\n",
              "    }\n",
              "    60% {\n",
              "      border-color: transparent;\n",
              "      border-right-color: var(--fill-color);\n",
              "    }\n",
              "    80% {\n",
              "      border-color: transparent;\n",
              "      border-right-color: var(--fill-color);\n",
              "      border-bottom-color: var(--fill-color);\n",
              "    }\n",
              "    90% {\n",
              "      border-color: transparent;\n",
              "      border-bottom-color: var(--fill-color);\n",
              "    }\n",
              "  }\n",
              "</style>\n",
              "\n",
              "  <script>\n",
              "    async function quickchart(key) {\n",
              "      const quickchartButtonEl =\n",
              "        document.querySelector('#' + key + ' button');\n",
              "      quickchartButtonEl.disabled = true;  // To prevent multiple clicks.\n",
              "      quickchartButtonEl.classList.add('colab-df-spinner');\n",
              "      try {\n",
              "        const charts = await google.colab.kernel.invokeFunction(\n",
              "            'suggestCharts', [key], {});\n",
              "      } catch (error) {\n",
              "        console.error('Error during call to suggestCharts:', error);\n",
              "      }\n",
              "      quickchartButtonEl.classList.remove('colab-df-spinner');\n",
              "      quickchartButtonEl.classList.add('colab-df-quickchart-complete');\n",
              "    }\n",
              "    (() => {\n",
              "      let quickchartButtonEl =\n",
              "        document.querySelector('#df-16e56711-adaa-4946-9bce-61075187a274 button');\n",
              "      quickchartButtonEl.style.display =\n",
              "        google.colab.kernel.accessAllowed ? 'block' : 'none';\n",
              "    })();\n",
              "  </script>\n",
              "</div>\n",
              "    </div>\n",
              "  </div>\n"
            ]
          },
          "metadata": {},
          "execution_count": 9
        }
      ]
    },
    {
      "cell_type": "markdown",
      "source": [
        "There are eight columns in our dataset which includes\n",
        "1. questionId- The ID of that particular question\n",
        "2. question- The question that is beinf asked for particular image\n",
        "3. image- Image name that we are going to use for reterving from image folder\n",
        "4. docId- the id of document form which we are asking question\n",
        "5. ucsf_document_id- The document id with respect to uscf\n",
        "6. ucsf_document_page_no\t- the page number of document from the particular ucsf dataset\n",
        "7. answer- the answer of the particular question asked\n",
        "8. data_split= the particular split of our dataset which can be train test or val"
      ],
      "metadata": {
        "id": "7KO4LryxWfqA"
      }
    },
    {
      "cell_type": "markdown",
      "source": [
        "## Visualising a Random example"
      ],
      "metadata": {
        "id": "qQC-x3Y_X7f8"
      }
    },
    {
      "cell_type": "code",
      "source": [
        "example = data['data'][20\n",
        "                      ]\n",
        "for k,v in example.items():\n",
        "  print(k + \":\", v)"
      ],
      "metadata": {
        "id": "MUSOaTVVWfCr",
        "colab": {
          "base_uri": "https://localhost:8080/"
        },
        "outputId": "f810976d-8796-41b4-fecd-7dbf9c580c23"
      },
      "execution_count": null,
      "outputs": [
        {
          "output_type": "stream",
          "name": "stdout",
          "text": [
            "questionId: 57374\n",
            "question: What is the name of the company?\n",
            "image: documents/ylvj0223_21.png\n",
            "docId: 4752\n",
            "ucsf_document_id: ylvj0223\n",
            "ucsf_document_page_no: 21\n",
            "answers: ['cigfil limited', 'CIGFIL LIMITED']\n",
            "data_split: val\n"
          ]
        }
      ]
    },
    {
      "cell_type": "code",
      "source": [
        "root_dir = '/content/drive/MyDrive/val/'\n",
        "image = Image.open(root_dir + example['image'])\n",
        "image"
      ],
      "metadata": {
        "id": "0txYpsP0YAzF",
        "colab": {
          "base_uri": "https://localhost:8080/",
          "height": 1000
        },
        "outputId": "ec02e5af-db30-4de7-c867-543943f40574"
      },
      "execution_count": null,
      "outputs": [
        {
          "output_type": "execute_result",
          "data": {
            "text/plain": [
              "<PIL.PngImagePlugin.PngImageFile image mode=L size=1679x2340>"
            ],
            "image/png": "[encoded data removed]"
          },
          "metadata": {},
          "execution_count": 11
        }
      ]
    },
    {
      "cell_type": "markdown",
      "source": [
        "The image is an analysis report for the current year and previous year analysis reports"
      ],
      "metadata": {
        "id": "9wkSZh4k2s1H"
      }
    },
    {
      "cell_type": "markdown",
      "source": [
        "## Getting Corresponding text\n",
        "In this section we are using an OCR technique that helps in processing the output\n",
        "The OCR results are stored in data folder itself under the name of OCR results so lets see the text output for the corresponding image\n"
      ],
      "metadata": {
        "id": "iGdBj8ScZOgy"
      }
    },
    {
      "cell_type": "code",
      "source": [
        "ocr_root_dir = root_dir + \"ocr_results/\"\n",
        "\n",
        "with open(ocr_root_dir + example['ucsf_document_id'] + \"_\" + example['ucsf_document_page_no'] + \".json\") as f:\n",
        "  ocr = json.load(f)\n",
        "words = \"\"\n",
        "for item in ocr['recognitionResults'][0]['lines']:\n",
        "  words += item['text']\n",
        "\n",
        "print(words)"
      ],
      "metadata": {
        "id": "emzR_E7SZZjw",
        "colab": {
          "base_uri": "https://localhost:8080/"
        },
        "outputId": "9d24ac40-007b-471e-aec7-fc085e2300f0"
      },
      "execution_count": null,
      "outputs": [
        {
          "output_type": "stream",
          "name": "stdout",
          "text": [
            "\"CIGFIL LIMITED, CHENNAISchedules annexed to and forming part of Balance Sheet as at 31.03.20043) Acetate Filament Yarn/ FibreKgsRs. In lakhsCurrent Year25,47137.55Previous year(12,431)(27.67)4) Acetate TowKgsRs. In lakhsCurrent Year661,3281,262.58Previous year725,722)(1519.97)5) Poly PropeleneMTsRs. In lakhsCurrent Year102.55046.88Previous year235.949)(106.84)D) Opening and Closing Stock of goods produced :1) Opening Stock :a) Cigarette Filter Rodsin MNRRs. In lakhsCurrent Year64.23251.46Previous year18.7652)(13.56)b) Poly Propelene Woven Fabrics/ Sacksin KgsRs. In lakhsCurrent YearNILNILPrevious yearNILNIL2) Closing Stock :a) Cigarette Filter Rodsn MNRRs. In lakhsCurrent Year31.559423.97Previous year(64.232)51.46)b) Poly Propelene Woven Fabrics/ Sacks.in KgsRs. In lakhsCurrent Year32203.23Previous year2863.52.87E) Value of imported/indigenous raw materials, stores & spare parts and componentsconsumed :1) Raw Materials :PercentageRs. In lakhsImported :Current Year79.23%1,304.95Previous year82.85%)(1596.85)Indigenous :Current Year20.77%342.04Previous year(17.15%)(330.44)Source: https://www.industrydocuments.ucsf.edu/docs/ylvj0223\n"
          ]
        }
      ]
    },
    {
      "cell_type": "markdown",
      "source": [
        "# Applying OCR on entire Dataset\n",
        "We are going to use LayoutLMv2FeatureExtractor from huggingface to prepare our model for Training\n",
        "The Datasets from huggingface is being used for loading this text data, because of compatilbilty with huggingface transformers, and faster processing technqiues"
      ],
      "metadata": {
        "id": "OAQdY8tRczHT"
      }
    },
    {
      "cell_type": "code",
      "source": [
        "dataset = Dataset.from_pandas(doc_df.iloc[:50])# creating the document in format of huggingface dataset"
      ],
      "metadata": {
        "id": "tBY6lix0dS8X"
      },
      "execution_count": null,
      "outputs": []
    },
    {
      "cell_type": "code",
      "source": [
        "feature_extractor = LayoutLMv2FeatureExtractor()# instance of our layout feature extractor"
      ],
      "metadata": {
        "id": "-dLCRPTZdflD",
        "colab": {
          "base_uri": "https://localhost:8080/"
        },
        "outputId": "9de14798-0745-4737-bf4e-edb18f7d96d0"
      },
      "execution_count": null,
      "outputs": [
        {
          "output_type": "stream",
          "name": "stderr",
          "text": [
            "/usr/local/lib/python3.10/dist-packages/transformers/models/layoutlmv2/feature_extraction_layoutlmv2.py:30: FutureWarning: The class LayoutLMv2FeatureExtractor is deprecated and will be removed in version 5 of Transformers. Please use LayoutLMv2ImageProcessor instead.\n",
            "  warnings.warn(\n"
          ]
        }
      ]
    },
    {
      "cell_type": "code",
      "source": [
        "def get_ocr_words_and_boxes(examples):\n",
        "  '''Each image has an image features, it will contains text in format of words and certains boxes which may contains any graphs,tables'''\n",
        "\n",
        "  # get a batch of document images\n",
        "  images = [Image.open(root_dir + image_file).convert(\"RGB\") for image_file in examples['image']]\n",
        "\n",
        "  # resize every image to 224x224 + apply tesseract to get words + normalized boxes\n",
        "  encoded_inputs = feature_extractor(images)\n",
        "\n",
        "  examples['image'] = encoded_inputs.pixel_values\n",
        "  examples['words'] = encoded_inputs.words\n",
        "  examples['boxes'] = encoded_inputs.boxes\n",
        "\n",
        "  return examples"
      ],
      "metadata": {
        "id": "JCrb_HmReaNf"
      },
      "execution_count": null,
      "outputs": []
    },
    {
      "cell_type": "code",
      "source": [
        "# from multiprocess import set_start_method\n",
        "# import torch\n",
        "# import os\n",
        "# set_start_method(\"spawn\")"
      ],
      "metadata": {
        "id": "PTj_n-Ek7Uq7"
      },
      "execution_count": null,
      "outputs": []
    },
    {
      "cell_type": "code",
      "source": [
        "#mapping this function to each image in our dataset using map functionality of datasets\n",
        "dataset_with_ocr = dataset.map(get_ocr_words_and_boxes, batched=True, batch_size=4)"
      ],
      "metadata": {
        "id": "Pgp8GloVetj9",
        "colab": {
          "base_uri": "https://localhost:8080/",
          "height": 49,
          "referenced_widgets": [
            "ad2083e2898f43b4a041c0215c1fe294",
            "e59e9962baac4963965dbbdffb192976",
            "d423e784663d4b39bac8ce7c28e70fda",
            "8d2a3c8c85f84fedab667f59a64f662a",
            "e43f7551fbe64d4daeb1b680180ae136",
            "c5ff639e4ee24ce08abba3d54e3032ba",
            "e4e990a947d6469d88b4802f5f84a210",
            "10a8ad19fa7143f3bb9c3e4f8e8b0529",
            "2abb57f407794ca49c841a4fcfa9bc60",
            "483430e60744458ca6d1b5b39826fe1f",
            "02e9998eeff54e229610ac013cb30f77"
          ]
        },
        "outputId": "17250afc-cf5f-41b3-d223-5fe927511ec4"
      },
      "execution_count": null,
      "outputs": [
        {
          "output_type": "display_data",
          "data": {
            "text/plain": [
              "Map:   0%|          | 0/50 [00:00<?, ? examples/s]"
            ],
            "application/vnd.jupyter.widget-view+json": {
              "version_major": 2,
              "version_minor": 0,
              "model_id": "ad2083e2898f43b4a041c0215c1fe294"
            }
          },
          "metadata": {}
        }
      ]
    },
    {
      "cell_type": "code",
      "source": [
        "dataset_with_ocr[0].keys()"
      ],
      "metadata": {
        "id": "vpQdp57Pe411",
        "colab": {
          "base_uri": "https://localhost:8080/"
        },
        "outputId": "aed0a2dd-09cf-47ce-8569-6bff7f6ad068"
      },
      "execution_count": null,
      "outputs": [
        {
          "output_type": "execute_result",
          "data": {
            "text/plain": [
              "dict_keys(['questionId', 'question', 'image', 'docId', 'ucsf_document_id', 'ucsf_document_page_no', 'answers', 'data_split', 'words', 'boxes'])"
            ]
          },
          "metadata": {},
          "execution_count": 76
        }
      ]
    },
    {
      "cell_type": "markdown",
      "source": [
        "# Encoding the Dataset\n",
        "We need to encode our dataset as the text for each image would be of variable length then for token prediction we only have imited heads that will predict our token<br>\n",
        "so for these purposes we would be using start positions and end positions<br>\n",
        "As we are doing the input of text and boxes we need to convert them to certains tokens that can be fed into our model with \\\n",
        "1. input_ids= The particular ID of the token\n",
        "2. attention_mask= The attention that is being applied to our text\n",
        "3. token_type_ids= There can be many type of token according to the context that is being applied\n",
        "4. bbox= the encoded input for the bounding box co-ordinates"
      ],
      "metadata": {
        "id": "_OrSuUvZfViz"
      }
    },
    {
      "cell_type": "markdown",
      "source": [
        "## Loading the tokenizer"
      ],
      "metadata": {
        "id": "S8RE0kkAjNhu"
      }
    },
    {
      "cell_type": "code",
      "source": [
        "tokenizer = AutoTokenizer.from_pretrained(model_checkpoint)#loading the pretrained tokenizer for the particular model"
      ],
      "metadata": {
        "id": "Lvw_ixxehQwo"
      },
      "execution_count": null,
      "outputs": []
    },
    {
      "cell_type": "markdown",
      "source": [
        "## Sub Finder\n",
        "We are using SubFinder lets see in the below example the question has some corresponding words which may contain our answer so we can see that the answer is being created using 3 strings of words to create the final answer so subfinder does that work"
      ],
      "metadata": {
        "id": "dWcE1h3QiMpw"
      }
    },
    {
      "cell_type": "code",
      "source": [
        "question = \"where is it located?\"\n",
        "words = [\"this\", \"is\", \"located\", \"in\", \"the\", \"university\", \"of\", \"california\", \"in\", \"the\", \"US\"]\n",
        "boxes = [[1000,1000,1000,1000] for _ in range(len(words))]\n",
        "answer = \"university of california\""
      ],
      "metadata": {
        "id": "KLBToloOhpMo"
      },
      "execution_count": null,
      "outputs": []
    },
    {
      "cell_type": "code",
      "source": [
        "def subfinder(words_list, answer_list):\n",
        "    matches = []\n",
        "    start_indices = []\n",
        "    end_indices = []\n",
        "\n",
        "    for idx, word in enumerate(words_list):\n",
        "        try:\n",
        "            if word == answer_list[0] and words_list[idx:idx+len(answer_list)] == answer_list:\n",
        "                matches.append(answer_list)\n",
        "                start_indices.append(idx)\n",
        "                end_indices.append(idx + len(answer_list) - 1)\n",
        "        except IndexError as e:\n",
        "            print(f\"Error in subfinder: {e}\")\n",
        "            print(f\"Index: {idx}, Length of words_list: {len(words_list)}\")\n",
        "            print(f\"words_list: {words_list}\")\n",
        "            print(f\"answer_list: {answer_list}\")\n",
        "\n",
        "    if matches:\n",
        "        return matches[0], start_indices[0], end_indices[0]\n",
        "    else:\n",
        "        return None, 0, 0"
      ],
      "metadata": {
        "id": "wNlASBCiipFa"
      },
      "execution_count": null,
      "outputs": []
    },
    {
      "cell_type": "markdown",
      "source": [
        "## Example Encoding"
      ],
      "metadata": {
        "id": "rgTwDysRhnFr"
      }
    },
    {
      "cell_type": "code",
      "source": [
        "encoding = tokenizer(question, words, boxes=boxes)"
      ],
      "metadata": {
        "id": "WCpIwUOXhsxa"
      },
      "execution_count": null,
      "outputs": []
    },
    {
      "cell_type": "code",
      "source": [
        "tokenizer.decode(encoding.input_ids)"
      ],
      "metadata": {
        "id": "JaCL8SPHh0Mi",
        "colab": {
          "base_uri": "https://localhost:8080/",
          "height": 36
        },
        "outputId": "d56acfd8-60dc-4f9b-8467-4e3e2d9aea83"
      },
      "execution_count": null,
      "outputs": [
        {
          "output_type": "execute_result",
          "data": {
            "text/plain": [
              "'[CLS] where is it located? [SEP] this is located in the university of california in the us [SEP]'"
            ],
            "application/vnd.google.colaboratory.intrinsic+json": {
              "type": "string"
            }
          },
          "metadata": {},
          "execution_count": 81
        }
      ]
    },
    {
      "cell_type": "code",
      "source": [
        "print(encoding.word_ids())"
      ],
      "metadata": {
        "id": "Oa7VHUJCh1vR",
        "colab": {
          "base_uri": "https://localhost:8080/"
        },
        "outputId": "a54055dc-e1ed-4965-af1a-5ba47caf4cd4"
      },
      "execution_count": null,
      "outputs": [
        {
          "output_type": "stream",
          "name": "stdout",
          "text": [
            "[None, 0, 1, 2, 3, 3, None, 0, 1, 2, 3, 4, 5, 6, 7, 8, 9, 10, None]\n"
          ]
        }
      ]
    },
    {
      "cell_type": "code",
      "source": [
        "print(encoding.sequence_ids())"
      ],
      "metadata": {
        "id": "gc4E6thdh4ip",
        "colab": {
          "base_uri": "https://localhost:8080/"
        },
        "outputId": "8de4dc9e-762d-4a36-b346-59c1f4d43f6d"
      },
      "execution_count": null,
      "outputs": [
        {
          "output_type": "stream",
          "name": "stdout",
          "text": [
            "[None, 0, 0, 0, 0, 0, None, 1, 1, 1, 1, 1, 1, 1, 1, 1, 1, 1, None]\n"
          ]
        }
      ]
    },
    {
      "cell_type": "markdown",
      "source": [
        "## Combining all\n",
        "This is a function that wil combine all the operations which includes subfinding of our answer list and the encoding using tokenizer"
      ],
      "metadata": {
        "id": "aFWVgkWjjR6u"
      }
    },
    {
      "cell_type": "code",
      "source": [
        "def encode_dataset(examples, max_length=512):\n",
        "  '''A function that takes examples as our input and then do the following\n",
        "  1. Extract out the question, words and boxes from the examples dictinary we created above\n",
        "  2. Encode using the autotokenizer of layoutlm2\n",
        "  3. adding the start and end positions to indicate the start and end of our sequence\n",
        "  4. Encoding using input IDs and tge token type IDs\n",
        "  5. Then finding the start and end index for the specific words in our list\n",
        "  6. If the particular text is being matched then appending the start and end'''\n",
        "  # take a batch\n",
        "  try:\n",
        "    if not examples:\n",
        "      print(\"Empty batch. Skipping...\")\n",
        "      return None\n",
        "\n",
        "    questions = examples['question']\n",
        "    words = examples['words']\n",
        "    boxes = examples['boxes']\n",
        "\n",
        "\n",
        "\n",
        "    # encode it\n",
        "    encoding = tokenizer(questions, words, boxes, max_length=max_length, padding=\"max_length\", truncation=True)\n",
        "\n",
        "    # next, add start_positions and end_positions\n",
        "    start_positions = []\n",
        "    end_positions = []\n",
        "    answers = examples['answers']\n",
        "    # for every example in the batch:\n",
        "    for batch_index in range(len(answers)):\n",
        "      print(\"Batch index:\", batch_index)\n",
        "      cls_index = encoding.input_ids[batch_index].index(tokenizer.cls_token_id)\n",
        "      # try to find one of the answers in the context, return first match\n",
        "      words_example = [word.lower() for word in words[batch_index]]\n",
        "      for answer in answers[batch_index]:\n",
        "        match, word_idx_start, word_idx_end = subfinder(words_example, answer.lower().split())\n",
        "        if match:\n",
        "          break\n",
        "      # EXPERIMENT (to account for when OCR context and answer don't perfectly match):\n",
        "      if not match:\n",
        "        for answer in answers[batch_index]:\n",
        "          for i in range(len(answer)):\n",
        "            # drop the ith character from the answer\n",
        "            answer_i = answer[:i] + answer[i+1:]\n",
        "            # check if we can find this one in the context\n",
        "            match, word_idx_start, word_idx_end = subfinder(words_example, answer_i.lower().split())\n",
        "            if match:\n",
        "              break\n",
        "      # END OF EXPERIMENT\n",
        "\n",
        "      if match:\n",
        "        sequence_ids = encoding.sequence_ids(batch_index)\n",
        "        # Start token index of the current span in the text.\n",
        "        token_start_index = 0\n",
        "        while sequence_ids[token_start_index] != 1:\n",
        "            token_start_index += 1\n",
        "\n",
        "        # End token index of the current span in the text.\n",
        "        token_end_index = len(encoding.input_ids[batch_index]) - 1\n",
        "        while sequence_ids[token_end_index] != 1:\n",
        "            token_end_index -= 1\n",
        "\n",
        "        word_ids = encoding.word_ids(batch_index)[token_start_index:token_end_index+1]\n",
        "        for id in word_ids:\n",
        "          if id == word_idx_start:\n",
        "            start_positions.append(token_start_index)\n",
        "            break\n",
        "          else:\n",
        "            token_start_index += 1\n",
        "\n",
        "        for id in word_ids[::-1]:\n",
        "          if id == word_idx_end:\n",
        "            end_positions.append(token_end_index)\n",
        "            break\n",
        "          else:\n",
        "            token_end_index -= 1\n",
        "\n",
        "        print(\"Verifying start position and end position:\")\n",
        "        print(\"True answer:\", answer)\n",
        "        start_position = start_positions[batch_index]\n",
        "        end_position = end_positions[batch_index]\n",
        "        reconstructed_answer = tokenizer.decode(encoding.input_ids[batch_index][start_position:end_position+1])\n",
        "        print(\"Reconstructed answer:\", reconstructed_answer)\n",
        "        print(\"-----------\")\n",
        "\n",
        "      else:\n",
        "        print(\"Answer not found in context\")\n",
        "        print(\"-----------\")\n",
        "        start_positions.append(cls_index)\n",
        "        end_positions.append(cls_index)\n",
        "\n",
        "    encoding['image'] = examples['image']\n",
        "    encoding['start_positions'] = start_positions\n",
        "    encoding['end_positions'] = end_positions\n",
        "\n",
        "  except IndexError as index_error:\n",
        "        print(f\"IndexError: {index_error}\")\n",
        "        # Print additional information to debug the issue\n",
        "        print(\"Printing example for debugging:\")\n",
        "        print(examples[0])  # Print the example at batch index 0\n",
        "        print(\"Printing variables for debugging:\")\n",
        "        print(\"questions:\", questions)\n",
        "        print(\"words:\", words)\n",
        "        print(\"boxes:\", boxes)\n",
        "        print(\"answers:\", answers)\n",
        "        print(\"batch_index:\", batch_index)\n",
        "        print(\"cls_index:\", cls_index)\n",
        "        print(\"words_example:\", words_example)\n",
        "        print(\"answer:\", answer)\n",
        "        print(\"match, word_idx_start, word_idx_end:\", match, word_idx_start, word_idx_end)\n",
        "        pass\n",
        "  except ValueError as value_error:\n",
        "      print(f\"ValueError: {value_error}\")\n",
        "      # Print additional information to debug the issue\n",
        "      print(\"Printing example for debugging:\")\n",
        "      print(examples[0])  # Print the example at batch index 0\n",
        "      pass\n",
        "  except Exception as e:\n",
        "      print(f\"Error processing example: {e}\")\n",
        "      # You can choose to handle the error in a specific way or simply skip the problematic example\n",
        "      pass\n",
        "\n",
        "\n",
        "  return encoding"
      ],
      "metadata": {
        "id": "16jHT1G6jejR"
      },
      "execution_count": null,
      "outputs": []
    },
    {
      "cell_type": "markdown",
      "source": [
        "## Performing Encoding"
      ],
      "metadata": {
        "id": "ktVMwHX30Wtu"
      }
    },
    {
      "cell_type": "code",
      "source": [
        "features = Features({\n",
        "    'input_ids': Sequence(feature=Value(dtype='int64')),\n",
        "    'bbox': Array2D(dtype=\"int64\", shape=(512, 4)),\n",
        "    'attention_mask': Sequence(Value(dtype='int64')),\n",
        "    'token_type_ids': Sequence(Value(dtype='int64')),\n",
        "    'image': Array3D(dtype=\"int64\", shape=(3, 224, 224)),\n",
        "    'start_positions': Value(dtype='int64'),\n",
        "    'end_positions': Value(dtype='int64'),\n",
        "})\n",
        "\n",
        "encoded_dataset = dataset_with_ocr.map(encode_dataset, batched=True, batch_size=2,\n",
        "                                       remove_columns=dataset_with_ocr.column_names,\n",
        "                                       features=features)"
      ],
      "metadata": {
        "id": "e1hwSq0o0H20",
        "colab": {
          "base_uri": "https://localhost:8080/",
          "height": 1000,
          "referenced_widgets": [
            "36fa4c89f2034955b65663a29cbcf85b",
            "a42feeba6f1b4d4581915a575b590f10",
            "64166750beb142caa1e0015d26cf28e6",
            "10914227e7dc4bbeaf6c81b794fc6c72",
            "b69c7d7792a3460488e8d6f1f032cfbc",
            "9cb10a32ef4f493fabb32f633d0a3b35",
            "2cd5d02493ff4669930e3e217c61b916",
            "3eac43cd7ee3434491a8fdc30a20afc0",
            "58729c80473c4048b9796fc69b84e74a",
            "896b0515a6404914b5e1efb8a4a2cf5f",
            "f0d71d00c37e41c5a0aab05a9867f9d7"
          ]
        },
        "outputId": "70a867ea-be4c-4e39-db53-7f93541eedbb"
      },
      "execution_count": null,
      "outputs": [
        {
          "output_type": "display_data",
          "data": {
            "text/plain": [
              "Map:   0%|          | 0/50 [00:00<?, ? examples/s]"
            ],
            "application/vnd.jupyter.widget-view+json": {
              "version_major": 2,
              "version_minor": 0,
              "model_id": "36fa4c89f2034955b65663a29cbcf85b"
            }
          },
          "metadata": {}
        },
        {
          "output_type": "stream",
          "name": "stdout",
          "text": [
            "Batch index: 0\n",
            "Answer not found in context\n",
            "-----------\n",
            "Batch index: 1\n",
            "Answer not found in context\n",
            "-----------\n",
            "Batch index: 0\n",
            "Verifying start position and end position:\n",
            "True answer: itc limited\n",
            "Reconstructed answer: itc limited\n",
            "-----------\n",
            "Batch index: 1\n",
            "Verifying start position and end position:\n",
            "True answer: san diego\n",
            "Reconstructed answer: san diego\n",
            "-----------\n",
            "Batch index: 0\n",
            "Answer not found in context\n",
            "-----------\n",
            "Batch index: 1\n",
            "Verifying start position and end position:\n",
            "True answer: 1128 sixteenth st., N. W., washington, D. C. 20036\n",
            "Reconstructed answer: 1128 sixteenth st., n. w., washington, d. c. 20036\n",
            "-----------\n",
            "Batch index: 0\n",
            "Answer not found in context\n",
            "-----------\n",
            "Batch index: 1\n",
            "Verifying start position and end position:\n",
            "True answer: The Robert A. Welch Foundation\n",
            "Reconstructed answer: the robert a. welch foundation\n",
            "-----------\n",
            "Batch index: 0\n",
            "Answer not found in context\n",
            "-----------\n",
            "Batch index: 1\n",
            "Answer not found in context\n",
            "-----------\n",
            "Batch index: 0\n",
            "Verifying start position and end position:\n",
            "True answer: TRRF Vice President\n",
            "Reconstructed answer: trrf vice president\n",
            "-----------\n",
            "Batch index: 1\n",
            "Answer not found in context\n",
            "-----------\n",
            "Batch index: 0\n",
            "Answer not found in context\n",
            "-----------\n",
            "Batch index: 1\n",
            "Verifying start position and end position:\n",
            "True answer: 2\n",
            "Reconstructed answer: 2\n",
            "-----------\n",
            "Batch index: 0\n",
            "Verifying start position and end position:\n",
            "True answer: 12:25 to 12:58 p.m.\n",
            "Reconstructed answer: 12 : 25 to 12 : 58 p. m.\n",
            "-----------\n",
            "Batch index: 1\n",
            "Verifying start position and end position:\n",
            "True answer: 2\n",
            "Reconstructed answer: 2\n",
            "-----------\n",
            "Batch index: 0\n",
            "Verifying start position and end position:\n",
            "True answer: 6\n",
            "Reconstructed answer: 6\n",
            "-----------\n",
            "Batch index: 1\n",
            "Verifying start position and end position:\n",
            "True answer: 6\n",
            "Reconstructed answer: 6\n",
            "-----------\n",
            "Batch index: 0\n",
            "Verifying start position and end position:\n",
            "True answer: trrf scientific advisory council meeting\n",
            "Reconstructed answer: trrf scientific advisory council meeting\n",
            "-----------\n",
            "Batch index: 1\n",
            "Verifying start position and end position:\n",
            "True answer: 3\n",
            "Reconstructed answer: 3\n",
            "-----------\n",
            "Batch index: 0\n",
            "Answer not found in context\n",
            "-----------\n",
            "Batch index: 1\n",
            "Verifying start position and end position:\n",
            "True answer: chennai\n",
            "Reconstructed answer: chennai\n",
            "-----------\n",
            "Batch index: 0\n",
            "Verifying start position and end position:\n",
            "True answer: 79.23%\n",
            "Reconstructed answer: 79. 23 %\n",
            "-----------\n",
            "Batch index: 1\n",
            "Verifying start position and end position:\n",
            "True answer: 11:39 to 11:44 a.m.\n",
            "Reconstructed answer: 11 : 39 to 11 : 44 a. m.\n",
            "-----------\n",
            "Batch index: 0\n",
            "Answer not found in context\n",
            "-----------\n",
            "Batch index: 1\n",
            "Verifying start position and end position:\n",
            "True answer: (82.85%)\n",
            "Reconstructed answer: ( 82. 85 % )\n",
            "-----------\n",
            "Batch index: 0\n",
            "Verifying start position and end position:\n",
            "True answer: 20.77%\n",
            "Reconstructed answer: 20. 77 %\n",
            "-----------\n",
            "Batch index: 1\n",
            "Verifying start position and end position:\n",
            "True answer: (17.15%)\n",
            "Reconstructed answer: ( 17. 15 % )\n",
            "-----------\n",
            "Batch index: 0\n",
            "Answer not found in context\n",
            "-----------\n",
            "Batch index: 1\n",
            "Verifying start position and end position:\n",
            "True answer: 31\n",
            "Reconstructed answer: 31\n",
            "-----------\n",
            "Batch index: 0\n",
            "Verifying start position and end position:\n",
            "True answer: ITC Limited\n",
            "Reconstructed answer: itc limited\n",
            "-----------\n",
            "Batch index: 1\n",
            "Answer not found in context\n",
            "-----------\n",
            "Batch index: 0\n",
            "Verifying start position and end position:\n",
            "True answer: 2\n",
            "Reconstructed answer: 2\n",
            "-----------\n",
            "Batch index: 1\n",
            "Verifying start position and end position:\n",
            "True answer: 22\n",
            "Reconstructed answer: 2\n",
            "-----------\n",
            "Batch index: 0\n",
            "Verifying start position and end position:\n",
            "True answer: y. c. deveshwar\n",
            "Reconstructed answer: y. c. deveshwar\n",
            "-----------\n",
            "Batch index: 1\n",
            "Verifying start position and end position:\n",
            "True answer: 10,000\n",
            "Reconstructed answer: 10, 00\n",
            "-----------\n",
            "Batch index: 0\n",
            "Verifying start position and end position:\n",
            "True answer: 24,26,435\n",
            "Reconstructed answer: 24, 26, 435\n",
            "-----------\n",
            "Batch index: 1\n",
            "Answer not found in context\n",
            "-----------\n",
            "Batch index: 0\n",
            "Verifying start position and end position:\n",
            "True answer: 14,000\n",
            "Reconstructed answer: 14, 00\n",
            "-----------\n",
            "Batch index: 1\n",
            "Answer not found in context\n",
            "-----------\n",
            "Batch index: 0\n",
            "Verifying start position and end position:\n",
            "True answer: ITC LIMITED\n",
            "Reconstructed answer: itc limited\n",
            "-----------\n",
            "Batch index: 1\n",
            "Verifying start position and end position:\n",
            "True answer: The Environment\n",
            "Reconstructed answer: the environment\n",
            "-----------\n",
            "Batch index: 0\n",
            "Verifying start position and end position:\n",
            "True answer: 2013\n",
            "Reconstructed answer: 2013\n",
            "-----------\n",
            "Batch index: 1\n",
            "Verifying start position and end position:\n",
            "True answer: 50\n",
            "Reconstructed answer: 50\n",
            "-----------\n",
            "Batch index: 0\n",
            "Verifying start position and end position:\n",
            "True answer: Essenza Di Wills, Fiama Di Wills, Vivel and Superia\n",
            "Reconstructed answer: essenza di wills, fiama di wills, vivel and superia\n",
            "-----------\n",
            "Batch index: 1\n",
            "Verifying start position and end position:\n",
            "True answer: Classmate and Paperkraft\n",
            "Reconstructed answer: classmate and paperkraft\n",
            "-----------\n",
            "Batch index: 0\n",
            "Verifying start position and end position:\n",
            "True answer: Wills Lifestyle and John Players\n",
            "Reconstructed answer: wills lifestyle and john players\n",
            "-----------\n",
            "Batch index: 1\n",
            "Verifying start position and end position:\n",
            "True answer: Mangaldeep\n",
            "Reconstructed answer: mangaldeep\n",
            "-----------\n",
            "Batch index: 0\n",
            "Verifying start position and end position:\n",
            "True answer: Aim\n",
            "Reconstructed answer: aim\n",
            "-----------\n",
            "Batch index: 1\n",
            "Answer not found in context\n",
            "-----------\n"
          ]
        }
      ]
    },
    {
      "cell_type": "code",
      "source": [
        "encoded_dataset"
      ],
      "metadata": {
        "id": "xGoFNOZo0fln",
        "colab": {
          "base_uri": "https://localhost:8080/"
        },
        "outputId": "730a39c8-96f8-4cc6-ad19-619b38f3e8dc"
      },
      "execution_count": null,
      "outputs": [
        {
          "output_type": "execute_result",
          "data": {
            "text/plain": [
              "Dataset({\n",
              "    features: ['input_ids', 'bbox', 'attention_mask', 'token_type_ids', 'image', 'start_positions', 'end_positions'],\n",
              "    num_rows: 50\n",
              "})"
            ]
          },
          "metadata": {},
          "execution_count": 86
        }
      ]
    },
    {
      "cell_type": "markdown",
      "source": [
        "# Examples"
      ],
      "metadata": {
        "id": "uhuUz6jC0pmF"
      }
    },
    {
      "cell_type": "code",
      "source": [
        "idx = 39\n",
        "\n",
        "tokenizer.decode(encoded_dataset['input_ids'][idx])"
      ],
      "metadata": {
        "id": "R95CFIpE0rcw",
        "colab": {
          "base_uri": "https://localhost:8080/",
          "height": 140
        },
        "outputId": "13ac60c9-0025-4d0f-ec62-ec67e1319b53"
      },
      "execution_count": null,
      "outputs": [
        {
          "output_type": "execute_result",
          "data": {
            "text/plain": [
              "'[CLS] what percentage of non - smokers feel the need to restore romance and mystery to modern life? [SEP] emotional enhancement smokers show above average interest in romance and excitement feel the need to find more excitement and sensation in life feel the need to restore romance and mystery to modern life but are more materialistic than non - smokers doing enjoyable things means more to me than having a lot of prized possessions there should be less emphasis on money in our society the only meaningful measure of success is money rya712 / monitor / mg / pt 7886 9eets yankelovich monitor 1990 non - smokers smokers % % [SEP] [PAD] [PAD] [PAD] [PAD] [PAD] [PAD] [PAD] [PAD] [PAD] [PAD] [PAD] [PAD] [PAD] [PAD] [PAD] [PAD] [PAD] [PAD] [PAD] [PAD] [PAD] [PAD] [PAD] [PAD] [PAD] [PAD] [PAD] [PAD] [PAD] [PAD] [PAD] [PAD] [PAD] [PAD] [PAD] [PAD] [PAD] [PAD] [PAD] [PAD] [PAD] [PAD] [PAD] [PAD] [PAD] [PAD] [PAD] [PAD] [PAD] [PAD] [PAD] [PAD] [PAD] [PAD] [PAD] [PAD] [PAD] [PAD] [PAD] [PAD] [PAD] [PAD] [PAD] [PAD] [PAD] [PAD] [PAD] [PAD] [PAD] [PAD] [PAD] [PAD] [PAD] [PAD] [PAD] [PAD] [PAD] [PAD] [PAD] [PAD] [PAD] [PAD] [PAD] [PAD] [PAD] [PAD] [PAD] [PAD] [PAD] [PAD] [PAD] [PAD] [PAD] [PAD] [PAD] [PAD] [PAD] [PAD] [PAD] [PAD] [PAD] [PAD] [PAD] [PAD] [PAD] [PAD] [PAD] [PAD] [PAD] [PAD] [PAD] [PAD] [PAD] [PAD] [PAD] [PAD] [PAD] [PAD] [PAD] [PAD] [PAD] [PAD] [PAD] [PAD] [PAD] [PAD] [PAD] [PAD] [PAD] [PAD] [PAD] [PAD] [PAD] [PAD] [PAD] [PAD] [PAD] [PAD] [PAD] [PAD] [PAD] [PAD] [PAD] [PAD] [PAD] [PAD] [PAD] [PAD] [PAD] [PAD] [PAD] [PAD] [PAD] [PAD] [PAD] [PAD] [PAD] [PAD] [PAD] [PAD] [PAD] [PAD] [PAD] [PAD] [PAD] [PAD] [PAD] [PAD] [PAD] [PAD] [PAD] [PAD] [PAD] [PAD] [PAD] [PAD] [PAD] [PAD] [PAD] [PAD] [PAD] [PAD] [PAD] [PAD] [PAD] [PAD] [PAD] [PAD] [PAD] [PAD] [PAD] [PAD] [PAD] [PAD] [PAD] [PAD] [PAD] [PAD] [PAD] [PAD] [PAD] [PAD] [PAD] [PAD] [PAD] [PAD] [PAD] [PAD] [PAD] [PAD] [PAD] [PAD] [PAD] [PAD] [PAD] [PAD] [PAD] [PAD] [PAD] [PAD] [PAD] [PAD] [PAD] [PAD] [PAD] [PAD] [PAD] [PAD] [PAD] [PAD] [PAD] [PAD] [PAD] [PAD] [PAD] [PAD] [PAD] [PAD] [PAD] [PAD] [PAD] [PAD] [PAD] [PAD] [PAD] [PAD] [PAD] [PAD] [PAD] [PAD] [PAD] [PAD] [PAD] [PAD] [PAD] [PAD] [PAD] [PAD] [PAD] [PAD] [PAD] [PAD] [PAD] [PAD] [PAD] [PAD] [PAD] [PAD] [PAD] [PAD] [PAD] [PAD] [PAD] [PAD] [PAD] [PAD] [PAD] [PAD] [PAD] [PAD] [PAD] [PAD] [PAD] [PAD] [PAD] [PAD] [PAD] [PAD] [PAD] [PAD] [PAD] [PAD] [PAD] [PAD] [PAD] [PAD] [PAD] [PAD] [PAD] [PAD] [PAD] [PAD] [PAD] [PAD] [PAD] [PAD] [PAD] [PAD] [PAD] [PAD] [PAD] [PAD] [PAD] [PAD] [PAD] [PAD] [PAD] [PAD] [PAD] [PAD] [PAD] [PAD] [PAD] [PAD] [PAD] [PAD] [PAD] [PAD] [PAD] [PAD] [PAD] [PAD] [PAD] [PAD] [PAD] [PAD] [PAD] [PAD] [PAD] [PAD] [PAD] [PAD] [PAD] [PAD] [PAD] [PAD] [PAD] [PAD] [PAD] [PAD] [PAD] [PAD] [PAD] [PAD] [PAD] [PAD] [PAD] [PAD] [PAD] [PAD] [PAD] [PAD] [PAD] [PAD] [PAD] [PAD] [PAD] [PAD] [PAD] [PAD] [PAD] [PAD] [PAD] [PAD] [PAD] [PAD] [PAD] [PAD] [PAD] [PAD] [PAD] [PAD] [PAD] [PAD] [PAD] [PAD]'"
            ],
            "application/vnd.google.colaboratory.intrinsic+json": {
              "type": "string"
            }
          },
          "metadata": {},
          "execution_count": 89
        }
      ]
    },
    {
      "cell_type": "code",
      "source": [
        "image = Image.open('/content/drive/MyDrive/val/' + dataset['image'][idx])\n",
        "image"
      ],
      "metadata": {
        "id": "NalQU7Ui-C_B",
        "colab": {
          "base_uri": "https://localhost:8080/",
          "height": 891
        },
        "outputId": "4629bc50-67e4-41c8-a611-b14189d49496"
      },
      "execution_count": null,
      "outputs": [
        {
          "output_type": "execute_result",
          "data": {
            "text/plain": [
              "<PIL.PngImagePlugin.PngImageFile image mode=L size=2159x1695>"
            ],
            "image/png": "[encoded data removed]"
          },
          "metadata": {},
          "execution_count": 90
        }
      ]
    },
    {
      "cell_type": "markdown",
      "source": [
        "Checking for the answer by getting the start and end positions of the answer to serach in our encoded dataset. The encoded dataset will have tokens which are decoding using tokenizer.decode if the answer is not there then printing answer not found in context"
      ],
      "metadata": {
        "id": "ZOCTC3kDh8Rr"
      }
    },
    {
      "cell_type": "code",
      "source": [
        "start_position = encoded_dataset['start_positions'][idx]\n",
        "end_position = encoded_dataset['end_positions'][idx]\n",
        "if start_position != 0:\n",
        "  print(tokenizer.decode(encoded_dataset['input_ids'][idx][start_position: end_position+1]))\n",
        "else:\n",
        "  print(\"Answer not found in context\")"
      ],
      "metadata": {
        "id": "_KGtzOcU-GSG",
        "colab": {
          "base_uri": "https://localhost:8080/"
        },
        "outputId": "c2597951-1a1f-4f36-eb82-e30878740bf5"
      },
      "execution_count": null,
      "outputs": [
        {
          "output_type": "stream",
          "name": "stdout",
          "text": [
            "Answer not found in context\n"
          ]
        }
      ]
    },
    {
      "cell_type": "code",
      "source": [
        "len(encoded_dataset)"
      ],
      "metadata": {
        "colab": {
          "base_uri": "https://localhost:8080/"
        },
        "id": "Scfm9dSNlAof",
        "outputId": "4bbc3ffa-12f1-49b5-ae9d-fe78113c9bab"
      },
      "execution_count": null,
      "outputs": [
        {
          "output_type": "execute_result",
          "data": {
            "text/plain": [
              "50"
            ]
          },
          "metadata": {},
          "execution_count": 92
        }
      ]
    },
    {
      "cell_type": "code",
      "source": [
        "encoded_dataset.features"
      ],
      "metadata": {
        "colab": {
          "base_uri": "https://localhost:8080/"
        },
        "id": "poXgDxQJlCK_",
        "outputId": "766bc3c9-09a7-492c-a612-3467ebbc0ada"
      },
      "execution_count": null,
      "outputs": [
        {
          "output_type": "execute_result",
          "data": {
            "text/plain": [
              "{'input_ids': Sequence(feature=Value(dtype='int64', id=None), length=-1, id=None),\n",
              " 'bbox': Array2D(shape=(512, 4), dtype='int64', id=None),\n",
              " 'attention_mask': Sequence(feature=Value(dtype='int64', id=None), length=-1, id=None),\n",
              " 'token_type_ids': Sequence(feature=Value(dtype='int64', id=None), length=-1, id=None),\n",
              " 'image': Array3D(shape=(3, 224, 224), dtype='int64', id=None),\n",
              " 'start_positions': Value(dtype='int64', id=None),\n",
              " 'end_positions': Value(dtype='int64', id=None)}"
            ]
          },
          "metadata": {},
          "execution_count": 93
        }
      ]
    },
    {
      "cell_type": "markdown",
      "source": [
        "# Creating DataLoaders\n",
        "The encoded dataset is in format of huggingface dataset so for training purposes we need to convert it to pytorch tensor format"
      ],
      "metadata": {
        "id": "bGtblX1plonn"
      }
    },
    {
      "cell_type": "code",
      "source": [
        "encoded_dataset.set_format(type=\"torch\")\n",
        "dataloader = torch.utils.data.DataLoader(encoded_dataset, batch_size=4)\n",
        "batch = next(iter(dataloader))\n",
        "\n",
        "for k,v in batch.items():\n",
        "  print(k, v.shape)"
      ],
      "metadata": {
        "colab": {
          "base_uri": "https://localhost:8080/"
        },
        "id": "_a1b-3jdlq_5",
        "outputId": "a5404706-50b0-48ac-84f2-2ac77846d571"
      },
      "execution_count": null,
      "outputs": [
        {
          "output_type": "stream",
          "name": "stdout",
          "text": [
            "input_ids torch.Size([4, 512])\n",
            "bbox torch.Size([4, 512, 4])\n",
            "attention_mask torch.Size([4, 512])\n",
            "token_type_ids torch.Size([4, 512])\n",
            "image torch.Size([4, 3, 224, 224])\n",
            "start_positions torch.Size([4])\n",
            "end_positions torch.Size([4])\n"
          ]
        }
      ]
    },
    {
      "cell_type": "code",
      "source": [
        "idx = 2\n",
        "\n",
        "tokenizer.decode(batch['input_ids'][2])#decoding the tensor input for the batch"
      ],
      "metadata": {
        "colab": {
          "base_uri": "https://localhost:8080/",
          "height": 140
        },
        "id": "3hfMWHI3mQcP",
        "outputId": "87d50fbd-89cc-4db5-e475-11ea3b81bdc0"
      },
      "execution_count": null,
      "outputs": [
        {
          "output_type": "execute_result",
          "data": {
            "text/plain": [
              "\"[CLS] what is the name of the company? [SEP] 7 itc limited report and accounts 2013 itc ’ s brands : an asset for the nation the consumer needs and aspirations they fulfil, the benefit they generate for millions across itc ’ s value chains, the future - ready capabilities that support them, and the value that they create for the country, have made itc ’ s brands national assets, adding to india ’ s competitiveness. it is itc ’ s aspiration to be the no 1 fmcg player in the country, driven by its new fmcg businesses. a recent nielsen report has highlighted that itc's new fmcg businesses are the fastest growing among the top consumer goods companies operating in india. itc takes justifiable pride that, along with generating economic value, these celebrated indian brands also drive the creation of larger societal capital through the virtuous cycle of sustainable and inclusive growth. di wills * ; love delightfully soft skin? aia ans source : https : / / www. industrydocuments. ucsf. edu / docs / snbx0223 [SEP] [PAD] [PAD] [PAD] [PAD] [PAD] [PAD] [PAD] [PAD] [PAD] [PAD] [PAD] [PAD] [PAD] [PAD] [PAD] [PAD] [PAD] [PAD] [PAD] [PAD] [PAD] [PAD] [PAD] [PAD] [PAD] [PAD] [PAD] [PAD] [PAD] [PAD] [PAD] [PAD] [PAD] [PAD] [PAD] [PAD] [PAD] [PAD] [PAD] [PAD] [PAD] [PAD] [PAD] [PAD] [PAD] [PAD] [PAD] [PAD] [PAD] [PAD] [PAD] [PAD] [PAD] [PAD] [PAD] [PAD] [PAD] [PAD] [PAD] [PAD] [PAD] [PAD] [PAD] [PAD] [PAD] [PAD] [PAD] [PAD] [PAD] [PAD] [PAD] [PAD] [PAD] [PAD] [PAD] [PAD] [PAD] [PAD] [PAD] [PAD] [PAD] [PAD] [PAD] [PAD] [PAD] [PAD] [PAD] [PAD] [PAD] [PAD] [PAD] [PAD] [PAD] [PAD] [PAD] [PAD] [PAD] [PAD] [PAD] [PAD] [PAD] [PAD] [PAD] [PAD] [PAD] [PAD] [PAD] [PAD] [PAD] [PAD] [PAD] [PAD] [PAD] [PAD] [PAD] [PAD] [PAD] [PAD] [PAD] [PAD] [PAD] [PAD] [PAD] [PAD] [PAD] [PAD] [PAD] [PAD] [PAD] [PAD] [PAD] [PAD] [PAD] [PAD] [PAD] [PAD] [PAD] [PAD] [PAD] [PAD] [PAD] [PAD] [PAD] [PAD] [PAD] [PAD] [PAD] [PAD] [PAD] [PAD] [PAD] [PAD] [PAD] [PAD] [PAD] [PAD] [PAD] [PAD] [PAD] [PAD] [PAD] [PAD] [PAD] [PAD] [PAD] [PAD] [PAD] [PAD] [PAD] [PAD] [PAD] [PAD] [PAD] [PAD] [PAD] [PAD] [PAD] [PAD] [PAD] [PAD] [PAD] [PAD] [PAD] [PAD] [PAD] [PAD] [PAD] [PAD] [PAD] [PAD] [PAD] [PAD] [PAD] [PAD] [PAD] [PAD] [PAD] [PAD] [PAD] [PAD] [PAD] [PAD] [PAD] [PAD] [PAD] [PAD] [PAD] [PAD] [PAD] [PAD] [PAD] [PAD] [PAD] [PAD] [PAD] [PAD] [PAD] [PAD] [PAD] [PAD] [PAD] [PAD] [PAD] [PAD] [PAD] [PAD] [PAD] [PAD] [PAD] [PAD] [PAD] [PAD] [PAD] [PAD] [PAD] [PAD] [PAD] [PAD] [PAD] [PAD] [PAD] [PAD] [PAD] [PAD] [PAD] [PAD] [PAD] [PAD] [PAD] [PAD] [PAD] [PAD] [PAD] [PAD] [PAD] [PAD] [PAD] [PAD] [PAD] [PAD] [PAD] [PAD] [PAD] [PAD] [PAD] [PAD] [PAD] [PAD] [PAD] [PAD] [PAD] [PAD] [PAD] [PAD] [PAD] [PAD] [PAD] [PAD] [PAD] [PAD]\""
            ],
            "application/vnd.google.colaboratory.intrinsic+json": {
              "type": "string"
            }
          },
          "metadata": {},
          "execution_count": 95
        }
      ]
    },
    {
      "cell_type": "code",
      "source": [
        "start_position = batch['start_positions'][idx].item()\n",
        "end_position = batch['end_positions'][idx].item()\n",
        "\n",
        "tokenizer.decode(batch['input_ids'][idx][start_position:end_position+1])"
      ],
      "metadata": {
        "colab": {
          "base_uri": "https://localhost:8080/",
          "height": 36
        },
        "id": "LZO46J7YmW2i",
        "outputId": "018c669e-4f49-4b23-c6b4-f5b2e0a08898"
      },
      "execution_count": null,
      "outputs": [
        {
          "output_type": "execute_result",
          "data": {
            "text/plain": [
              "'itc limited'"
            ],
            "application/vnd.google.colaboratory.intrinsic+json": {
              "type": "string"
            }
          },
          "metadata": {},
          "execution_count": 96
        }
      ]
    },
    {
      "cell_type": "markdown",
      "source": [
        "# Training our Model\n",
        "Here we are going to fine tune our layoutmv2 on the encoded format of our dataset"
      ],
      "metadata": {
        "id": "HHh8q-uwmkFJ"
      }
    },
    {
      "cell_type": "markdown",
      "source": [
        "## Loading Model"
      ],
      "metadata": {
        "id": "sP6XRqKBm8zO"
      }
    },
    {
      "cell_type": "code",
      "source": [
        "model = AutoModelForQuestionAnswering.from_pretrained(model_checkpoint)"
      ],
      "metadata": {
        "colab": {
          "base_uri": "https://localhost:8080/",
          "height": 104,
          "referenced_widgets": [
            "7091c6ea1f814899877c551fd2d4197a",
            "831f4b6004434981b03ac48fdf7b3188",
            "374cb1b2c93f4ef1938528e050ab608b",
            "6b514c61ff854145a7c33b2b70607338",
            "6036f14e10f44f5e806748c4469d8ad2",
            "df67680ce13b44d1812925b2c559e3bd",
            "092e8bca4b4e4d8ca80a371dfc33c495",
            "08ca29b0f93c4a6aa7b9590774554207",
            "4ae19fcced2e4f2082e98f0e7deed45e",
            "6042e3c898e44874afcd8ced238451bb",
            "440f43553f51424190175fa6a3dc87cd"
          ]
        },
        "id": "uyX2ueCZmtKj",
        "outputId": "99416cad-b63d-4a85-fb71-30bed3d75e1f"
      },
      "execution_count": null,
      "outputs": [
        {
          "output_type": "display_data",
          "data": {
            "text/plain": [
              "Downloading pytorch_model.bin:   0%|          | 0.00/802M [00:00<?, ?B/s]"
            ],
            "application/vnd.jupyter.widget-view+json": {
              "version_major": 2,
              "version_minor": 0,
              "model_id": "7091c6ea1f814899877c551fd2d4197a"
            }
          },
          "metadata": {}
        },
        {
          "output_type": "stream",
          "name": "stderr",
          "text": [
            "Some weights of LayoutLMv2ForQuestionAnswering were not initialized from the model checkpoint at microsoft/layoutlmv2-base-uncased and are newly initialized: ['qa_outputs.bias', 'qa_outputs.weight', 'layoutlmv2.visual_segment_embedding']\n",
            "You should probably TRAIN this model on a down-stream task to be able to use it for predictions and inference.\n"
          ]
        }
      ]
    },
    {
      "cell_type": "markdown",
      "source": [
        "## Training Loop"
      ],
      "metadata": {
        "id": "Zmo6_LZTm-vT"
      }
    },
    {
      "cell_type": "markdown",
      "source": [
        "We are using AdamW for optimization purposes"
      ],
      "metadata": {
        "id": "hA4HLK8EnHW0"
      }
    },
    {
      "cell_type": "code",
      "source": [
        "optimizer = AdamW(model.parameters(), lr=5e-5)\n",
        "\n",
        "device = \"cuda\" if torch.cuda.is_available() else \"cpu\"\n"
      ],
      "metadata": {
        "colab": {
          "base_uri": "https://localhost:8080/"
        },
        "id": "G-RsnaK4nCpn",
        "outputId": "019d97c7-2152-44b5-c663-10cbe7edca17"
      },
      "execution_count": null,
      "outputs": [
        {
          "output_type": "stream",
          "name": "stderr",
          "text": [
            "/usr/local/lib/python3.10/dist-packages/transformers/optimization.py:411: FutureWarning: This implementation of AdamW is deprecated and will be removed in a future version. Use the PyTorch implementation torch.optim.AdamW instead, or set `no_deprecation_warning=True` to disable this warning\n",
            "  warnings.warn(\n"
          ]
        }
      ]
    },
    {
      "cell_type": "code",
      "source": [
        "def train(model,epochs):\n",
        "  model.to(device)\n",
        "  model.train()\n",
        "\n",
        "  for epoch in range(20):  # loop over the dataset multiple times\n",
        "   for idx, batch in enumerate(dataloader):\n",
        "    # get the inputs;\n",
        "    input_ids = batch[\"input_ids\"].to(device)\n",
        "    attention_mask = batch[\"attention_mask\"].to(device)\n",
        "    token_type_ids = batch[\"token_type_ids\"].to(device)\n",
        "    bbox = batch[\"bbox\"].to(device)\n",
        "    image = batch[\"image\"].to(device)\n",
        "    start_positions = batch[\"start_positions\"].to(device)\n",
        "    end_positions = batch[\"end_positions\"].to(device)\n",
        "\n",
        "    # zero the parameter gradients\n",
        "    optimizer.zero_grad()\n",
        "\n",
        "    # forward + backward + optimize\n",
        "    outputs = model(input_ids=input_ids, attention_mask=attention_mask, token_type_ids=token_type_ids,\n",
        "                    bbox=bbox, image=image, start_positions=start_positions, end_positions=end_positions)\n",
        "    loss = outputs.loss\n",
        "    print(\"Loss:\", loss.item())\n",
        "    loss.backward()\n",
        "    optimizer.step()\n"
      ],
      "metadata": {
        "id": "ZE2NV8ERnABT"
      },
      "execution_count": null,
      "outputs": []
    },
    {
      "cell_type": "code",
      "source": [
        "train(model,epochs=100)"
      ],
      "metadata": {
        "colab": {
          "base_uri": "https://localhost:8080/"
        },
        "id": "5ekLskUNnl_N",
        "outputId": "87d841a0-3449-4bcd-c1f3-e66ed8f21f4d"
      },
      "execution_count": null,
      "outputs": [
        {
          "output_type": "stream",
          "name": "stdout",
          "text": [
            "Loss: 2.9742963314056396\n",
            "Loss: 3.228206157684326\n",
            "Loss: 3.5032002925872803\n",
            "Loss: 3.5735654830932617\n",
            "Loss: 3.7705469131469727\n",
            "Loss: 3.4693570137023926\n",
            "Loss: 3.1016130447387695\n",
            "Loss: 3.010673761367798\n",
            "Loss: 3.4796321392059326\n",
            "Loss: 3.1938395500183105\n",
            "Loss: 3.1648130416870117\n",
            "Loss: 3.1245932579040527\n",
            "Loss: 3.4354453086853027\n",
            "Loss: 3.0327951908111572\n",
            "Loss: 2.8779072761535645\n",
            "Loss: 3.2372570037841797\n",
            "Loss: 3.3965134620666504\n",
            "Loss: 3.5645785331726074\n",
            "Loss: 3.2215652465820312\n",
            "Loss: 2.9364216327667236\n",
            "Loss: 2.892263174057007\n",
            "Loss: 3.1305642127990723\n",
            "Loss: 3.0544190406799316\n",
            "Loss: 3.0233304500579834\n",
            "Loss: 3.318939685821533\n",
            "Loss: 3.3413567543029785\n",
            "Loss: 2.942323684692383\n",
            "Loss: 2.7582688331604004\n",
            "Loss: 3.051661968231201\n",
            "Loss: 3.529630184173584\n",
            "Loss: 3.3712077140808105\n",
            "Loss: 3.1965298652648926\n",
            "Loss: 2.8336172103881836\n",
            "Loss: 2.7373456954956055\n",
            "Loss: 4.696436882019043\n",
            "Loss: 2.8699724674224854\n",
            "Loss: 3.100712776184082\n",
            "Loss: 3.0286953449249268\n",
            "Loss: 3.3908095359802246\n",
            "Loss: 2.6479690074920654\n",
            "Loss: 2.7798171043395996\n",
            "Loss: 3.0337648391723633\n",
            "Loss: 3.0388002395629883\n",
            "Loss: 4.053949356079102\n",
            "Loss: 3.309349536895752\n",
            "Loss: 2.8307530879974365\n",
            "Loss: 2.6919422149658203\n",
            "Loss: 2.7780163288116455\n",
            "Loss: 2.81317138671875\n",
            "Loss: 3.8552803993225098\n",
            "Loss: 2.864645004272461\n",
            "Loss: 3.217343330383301\n",
            "Loss: 2.543123722076416\n",
            "Loss: 2.639740228652954\n",
            "Loss: 3.0772323608398438\n",
            "Loss: 3.207347869873047\n",
            "Loss: 3.3867428302764893\n",
            "Loss: 3.2556052207946777\n",
            "Loss: 2.838648557662964\n",
            "Loss: 2.621020793914795\n",
            "Loss: 2.883523941040039\n",
            "Loss: 2.7313232421875\n",
            "Loss: 3.739976406097412\n",
            "Loss: 3.6967945098876953\n",
            "Loss: 3.0537774562835693\n",
            "Loss: 2.4802377223968506\n",
            "Loss: 2.4698283672332764\n",
            "Loss: 2.8427844047546387\n",
            "Loss: 4.845534324645996\n",
            "Loss: 3.095109701156616\n",
            "Loss: 2.8693950176239014\n",
            "Loss: 2.5990843772888184\n",
            "Loss: 2.5407190322875977\n",
            "Loss: 2.895094156265259\n",
            "Loss: 2.8436288833618164\n",
            "Loss: 3.8519744873046875\n",
            "Loss: 2.865464687347412\n",
            "Loss: 3.1238927841186523\n",
            "Loss: 2.413018226623535\n",
            "Loss: 2.63962984085083\n",
            "Loss: 3.043067216873169\n",
            "Loss: 3.268897533416748\n",
            "Loss: 3.4887824058532715\n",
            "Loss: 2.8824820518493652\n",
            "Loss: 2.6012351512908936\n",
            "Loss: 2.4452195167541504\n",
            "Loss: 4.135811805725098\n",
            "Loss: 3.058730125427246\n",
            "Loss: 3.628124952316284\n",
            "Loss: 3.5519068241119385\n",
            "Loss: 3.0070362091064453\n",
            "Loss: 2.3345909118652344\n",
            "Loss: 2.4230399131774902\n",
            "Loss: 2.8073296546936035\n",
            "Loss: 3.081857204437256\n",
            "Loss: 3.485776901245117\n",
            "Loss: 3.1398229598999023\n",
            "Loss: 2.6488935947418213\n",
            "Loss: 2.4083001613616943\n",
            "Loss: 3.061131715774536\n",
            "Loss: 2.926358222961426\n",
            "Loss: 3.7702226638793945\n",
            "Loss: 2.6818013191223145\n",
            "Loss: 3.0308687686920166\n",
            "Loss: 2.267775058746338\n",
            "Loss: 2.326416015625\n",
            "Loss: 2.790712833404541\n",
            "Loss: 3.017965793609619\n",
            "Loss: 3.1709723472595215\n",
            "Loss: 2.747833728790283\n",
            "Loss: 2.4931979179382324\n",
            "Loss: 2.3161685466766357\n",
            "Loss: 2.7565603256225586\n",
            "Loss: 2.569197654724121\n",
            "Loss: 3.7356340885162354\n",
            "Loss: 2.6216020584106445\n",
            "Loss: 4.658219337463379\n",
            "Loss: 2.1593775749206543\n",
            "Loss: 2.2371339797973633\n",
            "Loss: 2.6234800815582275\n",
            "Loss: 2.852064609527588\n",
            "Loss: 2.9569053649902344\n",
            "Loss: 2.7127866744995117\n",
            "Loss: 2.446516513824463\n",
            "Loss: 2.685368061065674\n",
            "Loss: 2.6187808513641357\n",
            "Loss: 2.4393982887268066\n",
            "Loss: 3.9769668579101562\n",
            "Loss: 2.870755672454834\n",
            "Loss: 3.1288018226623535\n",
            "Loss: 2.0981626510620117\n",
            "Loss: 2.160475730895996\n",
            "Loss: 2.6405773162841797\n",
            "Loss: 3.0516891479492188\n",
            "Loss: 2.750150203704834\n",
            "Loss: 3.0934786796569824\n",
            "Loss: 2.364802598953247\n",
            "Loss: 2.327793598175049\n",
            "Loss: 2.5472395420074463\n",
            "Loss: 2.3663830757141113\n",
            "Loss: 3.3454947471618652\n",
            "Loss: 2.922492027282715\n",
            "Loss: 2.959611415863037\n",
            "Loss: 2.0957677364349365\n",
            "Loss: 2.2205891609191895\n",
            "Loss: 2.758533000946045\n",
            "Loss: 2.914342164993286\n",
            "Loss: 3.0577118396759033\n",
            "Loss: 2.79782772064209\n",
            "Loss: 2.421937942504883\n",
            "Loss: 2.2619454860687256\n",
            "Loss: 2.5611419677734375\n",
            "Loss: 2.3998050689697266\n",
            "Loss: 2.650552749633789\n",
            "Loss: 3.5183544158935547\n",
            "Loss: 2.711616277694702\n",
            "Loss: 2.0328116416931152\n",
            "Loss: 2.0239100456237793\n",
            "Loss: 2.5361578464508057\n",
            "Loss: 4.7082343101501465\n",
            "Loss: 2.406694173812866\n",
            "Loss: 2.531235694885254\n",
            "Loss: 2.2652392387390137\n",
            "Loss: 2.28114652633667\n",
            "Loss: 2.193502902984619\n",
            "Loss: 2.1154112815856934\n",
            "Loss: 3.3995556831359863\n",
            "Loss: 2.9835734367370605\n",
            "Loss: 2.691023826599121\n",
            "Loss: 2.1603269577026367\n",
            "Loss: 1.9072985649108887\n",
            "Loss: 2.3764379024505615\n",
            "Loss: 5.204685211181641\n",
            "Loss: 2.2444963455200195\n",
            "Loss: 2.462575674057007\n",
            "Loss: 2.139476776123047\n",
            "Loss: 1.9320428371429443\n",
            "Loss: 2.076404333114624\n",
            "Loss: 1.952275276184082\n",
            "Loss: 3.4892830848693848\n",
            "Loss: 2.3289954662323\n",
            "Loss: 2.4169442653656006\n",
            "Loss: 2.1084654331207275\n",
            "Loss: 1.7636247873306274\n",
            "Loss: 2.269001007080078\n",
            "Loss: 4.495911598205566\n",
            "Loss: 2.1049082279205322\n",
            "Loss: 2.403001546859741\n",
            "Loss: 2.0580830574035645\n",
            "Loss: 1.877699851989746\n",
            "Loss: 2.7606101036071777\n",
            "Loss: 1.823696494102478\n",
            "Loss: 2.0271973609924316\n",
            "Loss: 2.8557729721069336\n",
            "Loss: 2.6282169818878174\n",
            "Loss: 1.931370496749878\n",
            "Loss: 2.453423500061035\n",
            "Loss: 3.0687499046325684\n",
            "Loss: 3.113377571105957\n",
            "Loss: 3.252807378768921\n",
            "Loss: 2.7872209548950195\n",
            "Loss: 2.3139145374298096\n",
            "Loss: 2.005582332611084\n",
            "Loss: 2.5414390563964844\n",
            "Loss: 1.9892184734344482\n",
            "Loss: 2.3903889656066895\n",
            "Loss: 2.365821361541748\n",
            "Loss: 3.114628791809082\n",
            "Loss: 1.9842995405197144\n",
            "Loss: 1.7320934534072876\n",
            "Loss: 1.9329279661178589\n",
            "Loss: 3.92189884185791\n",
            "Loss: 2.374523878097534\n",
            "Loss: 2.5116872787475586\n",
            "Loss: 2.0836567878723145\n",
            "Loss: 1.9232494831085205\n",
            "Loss: 2.102245330810547\n",
            "Loss: 1.8613133430480957\n",
            "Loss: 2.249213933944702\n",
            "Loss: 2.2866556644439697\n",
            "Loss: 2.3856587409973145\n",
            "Loss: 1.468003511428833\n",
            "Loss: 1.5402209758758545\n",
            "Loss: 1.9718997478485107\n",
            "Loss: 2.582052230834961\n",
            "Loss: 2.635157823562622\n",
            "Loss: 2.5672786235809326\n",
            "Loss: 1.9267942905426025\n",
            "Loss: 1.5168859958648682\n",
            "Loss: 1.8945560455322266\n",
            "Loss: 1.559384822845459\n",
            "Loss: 2.0213656425476074\n",
            "Loss: 4.022928237915039\n",
            "Loss: 2.018477439880371\n",
            "Loss: 1.4034615755081177\n",
            "Loss: 1.4870572090148926\n",
            "Loss: 1.9144827127456665\n",
            "Loss: 2.181875228881836\n",
            "Loss: 2.338700771331787\n",
            "Loss: 2.310318946838379\n",
            "Loss: 1.824385166168213\n",
            "Loss: 1.3690271377563477\n",
            "Loss: 1.7496044635772705\n",
            "Loss: 1.56382417678833\n",
            "Loss: 1.9072144031524658\n",
            "Loss: 2.0336227416992188\n",
            "Loss: 2.1484081745147705\n",
            "Loss: 1.298945665359497\n",
            "Loss: 1.331430196762085\n",
            "Loss: 1.754461646080017\n",
            "Loss: 3.1770684719085693\n",
            "Loss: 3.0502514839172363\n",
            "Loss: 3.051088333129883\n",
            "Loss: 1.834599256515503\n",
            "Loss: 1.4057790040969849\n",
            "Loss: 2.0283725261688232\n",
            "Loss: 1.7419264316558838\n",
            "Loss: 2.033545732498169\n",
            "Loss: 2.1877756118774414\n",
            "Loss: 2.1328237056732178\n"
          ]
        }
      ]
    },
    {
      "cell_type": "markdown",
      "source": [
        "# Inferencing\n",
        "1. The LayoutLMv2 processor is being used for processing both text and image\n",
        "2. After Passing through model it will return the logits for start and end positions which can be used to get start_idx and end_idx by getting the argmax of the probablities\n",
        "3. Then decoding it in text format by slicing through the encoded ids from start to end index"
      ],
      "metadata": {
        "id": "XY9xPZj0sIjo"
      }
    },
    {
      "cell_type": "code",
      "source": [
        "example = data['data'][20]\n",
        "root_dir = '/content/drive/MyDrive/val/'\n",
        "question = example['question']\n",
        "image = Image.open(root_dir + example['image']).convert(\"RGB\")\n",
        "print(question)\n",
        "image"
      ],
      "metadata": {
        "colab": {
          "base_uri": "https://localhost:8080/",
          "height": 1000
        },
        "id": "lJELdGCssJv6",
        "outputId": "35a8c63e-159d-4850-e554-ace2624b31f7"
      },
      "execution_count": null,
      "outputs": [
        {
          "output_type": "stream",
          "name": "stdout",
          "text": [
            "What is the name of the company?\n"
          ]
        },
        {
          "output_type": "execute_result",
          "data": {
            "text/plain": [
              "<PIL.Image.Image image mode=RGB size=1679x2340>"
            ],
            "image/png": "[encoded data removed]"
          },
          "metadata": {},
          "execution_count": 102
        }
      ]
    },
    {
      "cell_type": "code",
      "source": [
        "from transformers import LayoutLMv2Processor\n",
        "\n",
        "processor = LayoutLMv2Processor.from_pretrained(\"microsoft/layoutlmv2-base-uncased\")\n",
        "\n",
        "# prepare for the model\n",
        "encoding = processor(image, question, return_tensors=\"pt\")\n",
        "print(encoding.keys())"
      ],
      "metadata": {
        "colab": {
          "base_uri": "https://localhost:8080/",
          "height": 66,
          "referenced_widgets": [
            "fbce740ff0a64a23b2bb1240e47a75a4",
            "f8c1e766d56e427aa370ecf179963ab9",
            "26aaba9f68bc4a39bf6c14eea694d1bb",
            "9cbdb633d35440dc9c66e76901ada0f1",
            "ad00bb495e524af5907a7f63a650db2d",
            "06f42786aca84ce588db51f97fa2aec5",
            "d81efa89d65d468393d1b41a397be88b",
            "7d28e92c7d9445e2af998b7d312864e8",
            "b757943e21cf4e818f487442d19e5568",
            "7acb86570dc6472fba872723a338dc29",
            "e8e11daae2b14e588b2ff77c709fa821"
          ]
        },
        "id": "yRsPzWhytWCl",
        "outputId": "78a4baca-07fe-49e6-aa9e-d3e83496dd24"
      },
      "execution_count": null,
      "outputs": [
        {
          "output_type": "display_data",
          "data": {
            "text/plain": [
              "Downloading (…)rocessor_config.json:   0%|          | 0.00/135 [00:00<?, ?B/s]"
            ],
            "application/vnd.jupyter.widget-view+json": {
              "version_major": 2,
              "version_minor": 0,
              "model_id": "fbce740ff0a64a23b2bb1240e47a75a4"
            }
          },
          "metadata": {}
        },
        {
          "output_type": "stream",
          "name": "stdout",
          "text": [
            "dict_keys(['input_ids', 'token_type_ids', 'attention_mask', 'bbox', 'image'])\n"
          ]
        }
      ]
    },
    {
      "cell_type": "code",
      "source": [
        "print(processor.tokenizer.decode(encoding.input_ids.squeeze()))"
      ],
      "metadata": {
        "colab": {
          "base_uri": "https://localhost:8080/"
        },
        "id": "VE1nUQ5IuF1C",
        "outputId": "003afd58-99ac-49da-e530-3135feb47d10"
      },
      "execution_count": null,
      "outputs": [
        {
          "output_type": "stream",
          "name": "stdout",
          "text": [
            "[CLS] what is the name of the company? [SEP]. “ cigfil limited, chennai schedules annexed to and forming part of balance sheet as at 31. 03. 2004 3 ) acetate filament yarn / fibre current year previous year 4 ) acetate tow current year previous year 5 ) poly propelene current year previous year d ) opening and closing stock of goods produced : 1 ) opening stock : a ) cigarette filter rods current year previous year b ) poly propelene woven fabrics / sacks current year previous year 2 ) closing stock : a ) cigarette filter rods current year previous year b ) poly propelene woven fabrics / sacks. current year previous year kgs rs. in lakhs 25, 471 | 37. 35 ( 12, 431 ) ( 27. 67 ) kgs rs. in lakhs 661, 328 | 1, 262. 58 ( 725, 722 ) ( 1519. 97 ) mts rs. inlakhs 102. 550 | 46. 88 ( 235. 949 ) ( 106. 84 ) inmnr _ _ _ rs. in lakhs 64. 232 ( 18. 7652 ) ( 13. 56 ) in kgs rs. in lakhs. nil nil nil inmnr _ _ rs. in lakhs 31. 5594 23. 97 ( 64. 232 ) ( 51. 46 ) in kgs _ _ rs. in lakhs | 3220 s | 3. 23 2863. 5 [ | 2. 87, e ) value of imported / indigenous raw materials, stores & spare parts and components consumed : 1 ) raw materials : imported : current year previous year indigenous : current year previous year percentage 79. 23 % | ( 82. 85 % ) 20. 77 % ( 17. 15 % ) rs. in lakhs 1, 304. 95 ( 1596. 85 ) 342. 04 ( 330. 44 ) [SEP]\n"
          ]
        }
      ]
    },
    {
      "cell_type": "code",
      "source": [
        "for k,v in encoding.items():\n",
        "  encoding[k] = v.to(model.device)\n",
        "\n",
        "outputs = model(**encoding)"
      ],
      "metadata": {
        "id": "t9tlit0muGc4"
      },
      "execution_count": null,
      "outputs": []
    },
    {
      "cell_type": "code",
      "source": [
        "# step 3: get start_logits and end_logits\n",
        "start_logits = outputs.start_logits\n",
        "end_logits = outputs.end_logits\n",
        "\n",
        "# step 4: get largest logit for both\n",
        "predicted_start_idx = start_logits.argmax(-1).item()\n",
        "predicted_end_idx = end_logits.argmax(-1).item()\n",
        "print(\"Predicted start idx:\", predicted_start_idx)\n",
        "print(\"Predicted end idx:\", predicted_end_idx)"
      ],
      "metadata": {
        "colab": {
          "base_uri": "https://localhost:8080/"
        },
        "id": "pQY_F3cKuLT3",
        "outputId": "82af8e5f-a3f0-42f1-9f54-686fbf0e5bee"
      },
      "execution_count": null,
      "outputs": [
        {
          "output_type": "stream",
          "name": "stdout",
          "text": [
            "Predicted start idx: 353\n",
            "Predicted end idx: 356\n"
          ]
        }
      ]
    },
    {
      "cell_type": "code",
      "source": [
        "# step 5: decode the predicted answer\n",
        "processor.tokenizer.decode(encoding.input_ids.squeeze()[predicted_start_idx:predicted_end_idx+1])"
      ],
      "metadata": {
        "colab": {
          "base_uri": "https://localhost:8080/",
          "height": 36
        },
        "id": "_S7itMyWuO-0",
        "outputId": "9f0386e8-148a-41a7-e92e-87edb19e4d89"
      },
      "execution_count": null,
      "outputs": [
        {
          "output_type": "execute_result",
          "data": {
            "text/plain": [
              "'79. 23 %'"
            ],
            "application/vnd.google.colaboratory.intrinsic+json": {
              "type": "string"
            }
          },
          "metadata": {},
          "execution_count": 108
        }
      ]
    },
    {
      "cell_type": "markdown",
      "source": [
        "As we can see that our model is giving decent outputs even when trained only on a subset of a chunk of validation data with whole training data we can improve our performance much"
      ],
      "metadata": {
        "id": "iY9pUxEuvVgp"
      }
    },
    {
      "cell_type": "code",
      "source": [],
      "metadata": {
        "id": "CeRnVO40vP8U"
      },
      "execution_count": null,
      "outputs": []
    }
  ]
}